{
 "cells": [
  {
   "cell_type": "markdown",
   "id": "97a720cc",
   "metadata": {
    "execution": {
     "iopub.execute_input": "2023-03-13T18:42:54.962807Z",
     "iopub.status.busy": "2023-03-13T18:42:54.962345Z",
     "iopub.status.idle": "2023-03-13T18:42:54.972491Z",
     "shell.execute_reply": "2023-03-13T18:42:54.971594Z"
    },
    "id": "6f8575b1",
    "papermill": {
     "duration": 0.020036,
     "end_time": "2023-03-13T18:42:54.974596",
     "exception": false,
     "start_time": "2023-03-13T18:42:54.954560",
     "status": "completed"
    },
    "tags": []
   },
   "source": [
    "### This model will take the input in a normal manner and also return results in a left to right manner."
   ]
  },
  {
   "cell_type": "code",
   "execution_count": 7,
   "id": "08b20de5",
   "metadata": {},
   "outputs": [],
   "source": [
    "import os\n",
    "os.environ['TF_CPP_MIN_LOG_LEVEL'] = '3'"
   ]
  },
  {
   "cell_type": "code",
   "execution_count": 2,
   "id": "1c2a79af",
   "metadata": {
    "execution": {
     "iopub.execute_input": "2023-03-13T18:42:54.985200Z",
     "iopub.status.busy": "2023-03-13T18:42:54.984408Z",
     "iopub.status.idle": "2023-03-13T18:43:02.241319Z",
     "shell.execute_reply": "2023-03-13T18:43:02.240223Z"
    },
    "id": "1c2a79af",
    "papermill": {
     "duration": 7.264987,
     "end_time": "2023-03-13T18:43:02.244210",
     "exception": false,
     "start_time": "2023-03-13T18:42:54.979223",
     "status": "completed"
    },
    "tags": []
   },
   "outputs": [],
   "source": [
    "import matplotlib.pyplot as plt\n",
    "%matplotlib inline\n",
    "# import seaborn as sns\n",
    "import pandas as pd\n",
    "import re\n",
    "import tensorflow as tf\n",
    "from tensorflow.keras.layers import Embedding, LSTM, Dense\n",
    "from tensorflow.keras.models import Model\n",
    "from tensorflow.keras.preprocessing.text import Tokenizer\n",
    "from tensorflow.keras.preprocessing.sequence import pad_sequences\n",
    "import numpy as np\n",
    "import seaborn as sns\n",
    "import pickle"
   ]
  },
  {
   "cell_type": "code",
   "execution_count": 3,
   "id": "e81819f4",
   "metadata": {
    "execution": {
     "iopub.execute_input": "2023-03-13T18:43:02.255191Z",
     "iopub.status.busy": "2023-03-13T18:43:02.254523Z",
     "iopub.status.idle": "2023-03-13T18:43:03.367101Z",
     "shell.execute_reply": "2023-03-13T18:43:03.366051Z"
    },
    "id": "e81819f4",
    "papermill": {
     "duration": 1.120663,
     "end_time": "2023-03-13T18:43:03.369656",
     "exception": false,
     "start_time": "2023-03-13T18:43:02.248993",
     "status": "completed"
    },
    "tags": []
   },
   "outputs": [],
   "source": [
    "[train,test, validation]=pickle.load(open('main_data_2.pkl','rb'))"
   ]
  },
  {
   "cell_type": "code",
   "execution_count": 4,
   "id": "0de9a942",
   "metadata": {
    "execution": {
     "iopub.execute_input": "2023-03-13T18:43:03.380841Z",
     "iopub.status.busy": "2023-03-13T18:43:03.379936Z",
     "iopub.status.idle": "2023-03-13T18:43:03.510121Z",
     "shell.execute_reply": "2023-03-13T18:43:03.509079Z"
    },
    "id": "0de9a942",
    "papermill": {
     "duration": 0.138232,
     "end_time": "2023-03-13T18:43:03.512642",
     "exception": false,
     "start_time": "2023-03-13T18:43:03.374410",
     "status": "completed"
    },
    "tags": []
   },
   "outputs": [],
   "source": [
    "[vocab_size_correct,vocab_size_incorrect,correct_tk,incorrect_tk]=pickle.load(open('tokenizer_files.pkl','rb'))"
   ]
  },
  {
   "cell_type": "code",
   "execution_count": 5,
   "id": "84733a5f",
   "metadata": {
    "colab": {
     "base_uri": "https://localhost:8080/"
    },
    "execution": {
     "iopub.execute_input": "2023-03-13T18:43:03.523983Z",
     "iopub.status.busy": "2023-03-13T18:43:03.522994Z",
     "iopub.status.idle": "2023-03-13T18:43:03.531348Z",
     "shell.execute_reply": "2023-03-13T18:43:03.530237Z"
    },
    "id": "84733a5f",
    "outputId": "b95db025-c004-4d27-c667-e205dc1b711d",
    "papermill": {
     "duration": 0.018421,
     "end_time": "2023-03-13T18:43:03.535926",
     "exception": false,
     "start_time": "2023-03-13T18:43:03.517505",
     "status": "completed"
    },
    "tags": []
   },
   "outputs": [
    {
     "name": "stdout",
     "output_type": "stream",
     "text": [
      "40176\n",
      "52192\n"
     ]
    }
   ],
   "source": [
    "vocab_size_correct=max(correct_tk.word_index.values())\n",
    "print(vocab_size_correct)\n",
    "vocab_size_incorrect=max(incorrect_tk.word_index.values())\n",
    "print(vocab_size_incorrect)"
   ]
  },
  {
   "cell_type": "markdown",
   "id": "e6f53da2",
   "metadata": {},
   "source": [
    "<font color='blue'>**Encoder**</font>"
   ]
  },
  {
   "cell_type": "code",
   "execution_count": 6,
   "id": "032d845c",
   "metadata": {
    "execution": {
     "iopub.execute_input": "2023-03-13T18:43:03.556515Z",
     "iopub.status.busy": "2023-03-13T18:43:03.555928Z",
     "iopub.status.idle": "2023-03-13T18:43:03.564126Z",
     "shell.execute_reply": "2023-03-13T18:43:03.563011Z"
    },
    "id": "032d845c",
    "papermill": {
     "duration": 0.015847,
     "end_time": "2023-03-13T18:43:03.566225",
     "exception": false,
     "start_time": "2023-03-13T18:43:03.550378",
     "status": "completed"
    },
    "tags": []
   },
   "outputs": [],
   "source": [
    "class Encoder(tf.keras.Model):\n",
    "    '''\n",
    "    Encoder model -- That takes a input sequence and returns output sequence\n",
    "    '''\n",
    "\n",
    "    def __init__(self,inp_vocab_size,embedding_size,lstm_size,input_length):\n",
    "        super().__init__()\n",
    "        #Initialize Embedding layer\n",
    "        #Intialize Encoder LSTM layer\n",
    "        self.embedding_layer=Embedding(input_dim=inp_vocab_size,output_dim=embedding_size,input_length=input_length, mask_zero=True )\n",
    "        self.lstm_layer=LSTM(lstm_size, return_sequences=True, return_state=True)\n",
    "        self.lstm_size=lstm_size\n",
    "\n",
    "    def call(self,input_sequence,states):\n",
    "        '''\n",
    "        This function takes a sequence input and the initial states of the encoder.\n",
    "        Pass the input_sequence input to the Embedding layer, Pass the embedding layer ouput to encoder_lstm\n",
    "        returns -- All encoder_outputs, last time steps hidden and cell state\n",
    "        '''\n",
    "        input_1=self.embedding_layer(input_sequence)\n",
    "        output, output_h, output_c=self.lstm_layer(input_1, initial_state=states)\n",
    "        return output, output_h, output_c\n",
    "\n",
    "    def initialize_states(self,batch_size):\n",
    "        '''\n",
    "        Given a batch size it will return intial hidden state and intial cell state.\n",
    "        If batch size is 32- Hidden state is zeros of size [32,lstm_units], cell state zeros is of size [32,lstm_units]\n",
    "        '''\n",
    "        output_h, output_c=tf.zeros([batch_size,self.lstm_size]), tf.zeros([batch_size,self.lstm_size])\n",
    "        return output_h, output_c\n"
   ]
  },
  {
   "cell_type": "markdown",
   "id": "26aa2d78",
   "metadata": {
    "id": "26aa2d78",
    "papermill": {
     "duration": 0.004275,
     "end_time": "2023-03-13T18:43:03.574823",
     "exception": false,
     "start_time": "2023-03-13T18:43:03.570548",
     "status": "completed"
    },
    "tags": []
   },
   "source": [
    "<font color='blue'>**Attention**</font>"
   ]
  },
  {
   "cell_type": "code",
   "execution_count": 7,
   "id": "c1f3efa0",
   "metadata": {
    "execution": {
     "iopub.execute_input": "2023-03-13T18:43:03.585299Z",
     "iopub.status.busy": "2023-03-13T18:43:03.584575Z",
     "iopub.status.idle": "2023-03-13T18:43:03.592120Z",
     "shell.execute_reply": "2023-03-13T18:43:03.591087Z"
    },
    "id": "c1f3efa0",
    "papermill": {
     "duration": 0.014916,
     "end_time": "2023-03-13T18:43:03.594139",
     "exception": false,
     "start_time": "2023-03-13T18:43:03.579223",
     "status": "completed"
    },
    "tags": []
   },
   "outputs": [],
   "source": [
    "#Attention#\n",
    "class Attention(tf.keras.layers.Layer):\n",
    "    '''\n",
    "    Class the calculates score based on the scoring_function using Bahdanu attention mechanism.\n",
    "    '''\n",
    "    def __init__(self,scoring_function, att_units):\n",
    "        super().__init__()\n",
    "        # Please go through the reference notebook and research paper to complete the scoring functions\n",
    "        \n",
    "        self.att_units=att_units\n",
    "        self.scoring_function=scoring_function\n",
    "        self.dot=tf.keras.layers.Dot(axes=(1,2))\n",
    "        self.mult=tf.keras.layers.Multiply()\n",
    "        self.add=tf.keras.layers.Add()\n",
    "\n",
    "        pass\n",
    "    \n",
    "    def call(self,decoder_hidden_state,encoder_output):\n",
    "      '''\n",
    "      Attention mechanism takes two inputs current step -- decoder_hidden_state and all the encoder_outputs.\n",
    "      * Based on the scoring function we will find the score or similarity between decoder_hidden_state and encoder_output.\n",
    "      Multiply the score function with your encoder_outputs to get the context vector.\n",
    "      Function returns context vector and attention weights(softmax - scores)\n",
    "      '''\n",
    "      # Implement Dot score function here\n",
    "      #print('decoder_hidden_state',tf.expand_dims(decoder_hidden_state,1).shape, 'encoder_output', encoder_output.shape)\n",
    "      alphas=tf.matmul(encoder_output,tf.expand_dims(decoder_hidden_state,-1))\n",
    "      alphas=tf.nn.softmax(alphas)\n",
    "      context_vector=alphas*encoder_output\n",
    "      context_vector=tf.reduce_sum(context_vector, axis=1)\n",
    "      return context_vector,alphas\n",
    "    "
   ]
  },
  {
   "cell_type": "markdown",
   "id": "093eb842",
   "metadata": {
    "id": "093eb842",
    "papermill": {
     "duration": 0.004339,
     "end_time": "2023-03-13T18:43:03.602837",
     "exception": false,
     "start_time": "2023-03-13T18:43:03.598498",
     "status": "completed"
    },
    "tags": []
   },
   "source": [
    "<font color='blue'>**OneStepDecoder**</font>"
   ]
  },
  {
   "cell_type": "code",
   "execution_count": 8,
   "id": "e00dd8c8",
   "metadata": {
    "execution": {
     "iopub.execute_input": "2023-03-13T18:43:03.612959Z",
     "iopub.status.busy": "2023-03-13T18:43:03.612693Z",
     "iopub.status.idle": "2023-03-13T18:43:03.626269Z",
     "shell.execute_reply": "2023-03-13T18:43:03.625047Z"
    },
    "id": "e00dd8c8",
    "papermill": {
     "duration": 0.02156,
     "end_time": "2023-03-13T18:43:03.628773",
     "exception": false,
     "start_time": "2023-03-13T18:43:03.607213",
     "status": "completed"
    },
    "tags": []
   },
   "outputs": [],
   "source": [
    "class One_Step_Decoder(tf.keras.Model):\n",
    "    def __init__(self,tar_vocab_size, embedding_dim, input_length, dec_units ,score_fun ,att_units):\n",
    "        super().__init__()\n",
    "        # Initialize decoder embedding layer, LSTM and any other objects needed #, mask_zero=True, trainable=True ,weights=[embedding_matrix]\n",
    "        self.embedding_layer=Embedding(input_dim=tar_vocab_size, output_dim=embedding_dim, input_length=input_length, mask_zero=True, trainable=True )\n",
    "        self.lstm_layer=LSTM(dec_units, return_state=True, return_sequences=True)\n",
    "        self.att_units=att_units\n",
    "        self.score_fun=score_fun\n",
    "        self.tar_vocab_size=tar_vocab_size\n",
    "        self.dec_units=dec_units\n",
    "        self.dense_layer=tf.keras.layers.Dense(tar_vocab_size)\n",
    "        self.attention=Attention(score_fun,att_units)\n",
    "\n",
    "\n",
    "    def call(self,input_to_decoder, encoder_output, state_h,state_c):\n",
    "        '''\n",
    "        One step decoder mechanisim step by step:\n",
    "          A. Pass the input_to_decoder to the embedding layer and then get the output(batch_size,1,embedding_dim)\n",
    "          B. Using the encoder_output and decoder hidden state, compute the context vector.\n",
    "          C. Concat the context vector with the step A output\n",
    "          D. Pass the Step-C output to LSTM/GRU and get the decoder output and states(hidden and cell state)\n",
    "          E. Pass the decoder output to dense layer(vocab size) and store the result into output.\n",
    "          F. Return the states from step D, output from Step E, attention weights from Step -B\n",
    "        '''\n",
    "        result=self.embedding_layer(input_to_decoder)\n",
    "        result=tf.squeeze(result, axis=1)\n",
    "\n",
    "        context_vector, weights=self.attention(state_h, encoder_output)\n",
    "\n",
    "        output_1=tf.concat([context_vector, result],axis=1)\n",
    "        output_1=tf.expand_dims(output_1,1)\n",
    "        \n",
    "        decoder_outputs, decoder_h, decoder_c=self.lstm_layer(output_1, initial_state=[state_h,state_c])\n",
    "\n",
    "        \n",
    "        final_output=self.dense_layer(decoder_outputs)\n",
    "        final_output=tf.squeeze(final_output,axis=1)\n",
    "        \n",
    "        return final_output,decoder_h, decoder_c, weights,context_vector\n"
   ]
  },
  {
   "cell_type": "markdown",
   "id": "477f3507",
   "metadata": {},
   "source": [
    "<font color='blue'>**Decoder**</font>"
   ]
  },
  {
   "cell_type": "code",
   "execution_count": 9,
   "id": "9c5e12d3",
   "metadata": {
    "execution": {
     "iopub.execute_input": "2023-03-13T18:43:03.639739Z",
     "iopub.status.busy": "2023-03-13T18:43:03.638895Z",
     "iopub.status.idle": "2023-03-13T18:43:03.649010Z",
     "shell.execute_reply": "2023-03-13T18:43:03.648091Z"
    },
    "id": "9c5e12d3",
    "papermill": {
     "duration": 0.018023,
     "end_time": "2023-03-13T18:43:03.651318",
     "exception": false,
     "start_time": "2023-03-13T18:43:03.633295",
     "status": "completed"
    },
    "tags": []
   },
   "outputs": [],
   "source": [
    "class Decoder(tf.keras.Model):\n",
    "    def __init__(self,out_vocab_size, embedding_dim, input_length, dec_units ,score_fun ,att_units):\n",
    "      super().__init__()\n",
    "\n",
    "      #Intialize necessary variables and create an object from the class onestepdecoder\n",
    "      \n",
    "      self.input_length=input_length\n",
    "      self.dec_units=dec_units\n",
    "      self.score_fun=score_fun\n",
    "      self.att_units=att_units\n",
    "      self.out_vocab_size=out_vocab_size\n",
    "      self.embedding_dim=embedding_dim\n",
    "      self.osd=One_Step_Decoder(tar_vocab_size=self.out_vocab_size, embedding_dim=self.embedding_dim, \n",
    "                                                                                   input_length=self.input_length, dec_units=self.dec_units, score_fun=self.score_fun, att_units=self.att_units)\n",
    "      pass\n",
    "    tf.config.run_functions_eagerly(True)\n",
    "    @tf.function\n",
    "    def call(self, input_to_decoder,encoder_output,decoder_hidden_state,decoder_cell_state ):\n",
    "\n",
    "        #Initialize an empty Tensor array, that will store the outputs at each and every time step\n",
    "        #Create a tensor array as shown in the reference notebook\n",
    "        \n",
    "        #Iterate till the length of the decoder input\n",
    "            # Call onestepdecoder for each token in decoder_input\n",
    "            # Store the output in tensorarray\n",
    "        # Return the tensor array\n",
    "        #print(input_to_decoder.shape)\n",
    "        \n",
    "        output_array=tf.TensorArray(tf.float32,size=input_to_decoder.shape[1])\n",
    "        #print('input_to_decoder',input_to_decoder.shape)\n",
    "        for timestep in range(input_to_decoder.shape[1]):\n",
    "          #print(input_to_decoder.shape, encoder_output.shape, decoder_hidden_state.shape,decoder_cell_state.shape)\n",
    "          output,decoder_hidden_state,decoder_cell_state,attention_weights,context_vector=self.osd(input_to_decoder[:,timestep:timestep+1], encoder_output, decoder_hidden_state,decoder_cell_state)\n",
    "          output_array = output_array.write(timestep, output)\n",
    "          #output_array.write(timestep,output).mark_used()\n",
    "        #.mark_used()\n",
    "        all_output=tf.transpose(output_array.stack(), [1,0,2])\n",
    "        #print(all_output.shape)\n",
    "        return all_output"
   ]
  },
  {
   "cell_type": "markdown",
   "id": "90cfde7f",
   "metadata": {},
   "source": [
    "<font color='blue'>**Encoder-Decoder Model**</font>"
   ]
  },
  {
   "cell_type": "code",
   "execution_count": 10,
   "id": "88440f55",
   "metadata": {
    "execution": {
     "iopub.execute_input": "2023-03-13T18:43:03.679784Z",
     "iopub.status.busy": "2023-03-13T18:43:03.679411Z",
     "iopub.status.idle": "2023-03-13T18:43:03.687852Z",
     "shell.execute_reply": "2023-03-13T18:43:03.686732Z"
    },
    "id": "88440f55",
    "papermill": {
     "duration": 0.016598,
     "end_time": "2023-03-13T18:43:03.690088",
     "exception": false,
     "start_time": "2023-03-13T18:43:03.673490",
     "status": "completed"
    },
    "tags": []
   },
   "outputs": [],
   "source": [
    "class encoder_decoder(tf.keras.Model):\n",
    "  def __init__(self,inp_vocab_size,out_vocab_size, embedding_size, lstm_size, input_length_l1, input_length_l2, dec_units, score_fun, att_units, batch_size):\n",
    "    super().__init__()\n",
    "    #Intialize objects from encoder decoder\n",
    "    self.encoder_block=Encoder(inp_vocab_size=inp_vocab_size,embedding_size=embedding_size, lstm_size=lstm_size, input_length=input_length_l1 )\n",
    "    self.decoder_block=Decoder(out_vocab_size=out_vocab_size, embedding_dim=embedding_size, input_length=input_length_l2, dec_units=dec_units, score_fun=score_fun, att_units=att_units)\n",
    "    self.batch_size=batch_size\n",
    "    pass\n",
    "\n",
    "  \n",
    "  def call(self,data):\n",
    "    #Intialize encoder states, Pass the encoder_sequence to the embedding layer\n",
    "    # Decoder initial states are encoder final states, Initialize it accordingly\n",
    "    # Pass the decoder sequence,encoder_output,decoder states to Decoder\n",
    "    # return the decoder output\n",
    "    input_sequence=data[0]\n",
    "    output_sequence=data[1]\n",
    "    #print(input_sequence.shape)\n",
    "    encoder_h, encoder_c=self.encoder_block.initialize_states(self.batch_size)\n",
    "    encoder_output, encoder_h, encoder_c=self.encoder_block(input_sequence, states=[encoder_h, encoder_c])\n",
    "    #input_to_decoder,encoder_output,decoder_hidden_state,decoder_cell_state\n",
    "    dec_h,dec_c=encoder_h, encoder_c\n",
    "    output_decoder =self.decoder_block(input_to_decoder=output_sequence,encoder_output=encoder_output,decoder_hidden_state=dec_h,decoder_cell_state=dec_c)\n",
    "    #output_decoder=self.soft_max(output_decoder)\n",
    "\n",
    "    return output_decoder"
   ]
  },
  {
   "cell_type": "markdown",
   "id": "cc648285",
   "metadata": {
    "id": "8ca5a42c",
    "papermill": {
     "duration": 0.004302,
     "end_time": "2023-03-13T18:43:03.669078",
     "exception": false,
     "start_time": "2023-03-13T18:43:03.664776",
     "status": "completed"
    },
    "tags": []
   },
   "source": [
    "<font color='blue'>**Custom loss function**</font>"
   ]
  },
  {
   "cell_type": "code",
   "execution_count": 11,
   "id": "c78b207b",
   "metadata": {
    "execution": {
     "iopub.execute_input": "2023-03-13T18:43:03.700644Z",
     "iopub.status.busy": "2023-03-13T18:43:03.700316Z",
     "iopub.status.idle": "2023-03-13T18:43:06.150073Z",
     "shell.execute_reply": "2023-03-13T18:43:06.149081Z"
    },
    "id": "c78b207b",
    "papermill": {
     "duration": 2.457928,
     "end_time": "2023-03-13T18:43:06.152588",
     "exception": false,
     "start_time": "2023-03-13T18:43:03.694660",
     "status": "completed"
    },
    "tags": []
   },
   "outputs": [],
   "source": [
    "#https://www.tensorflow.org/tutorials/text/image_captioning#model\n",
    "loss_object = tf.keras.losses.SparseCategoricalCrossentropy(\n",
    "    from_logits=True, reduction='none')\n",
    "\n",
    "# lr = 0.0001\n",
    "\n",
    "def loss_function(real, pred):\n",
    "    \"\"\" Custom loss function that will not consider the loss for padded zeros.\n",
    "    why are we using this, can't we use simple sparse categorical crossentropy?\n",
    "    Yes, you can use simple sparse categorical crossentropy as loss like we did in task-1. But in this loss function we are ignoring the loss\n",
    "    for the padded zeros. i.e when the input is zero then we donot need to worry what the output is. This padded zeros are added from our end\n",
    "    during preprocessing to make equal length for all the sentences.\"\"\"\n",
    "    \n",
    "    \n",
    "    mask = tf.math.logical_not(tf.math.equal(real, 0))\n",
    "    loss_ = loss_object(real, pred)\n",
    "\n",
    "    \n",
    "    mask = tf.cast(mask, dtype=loss_.dtype)\n",
    "\n",
    "    loss_ *= mask\n",
    "\n",
    "    \n",
    "    return tf.reduce_mean(loss_)\n",
    "optimizer = tf.keras.optimizers.Adam()"
   ]
  },
  {
   "cell_type": "markdown",
   "id": "b6c2e19b",
   "metadata": {
    "id": "b6c2e19b",
    "papermill": {
     "duration": 0.004434,
     "end_time": "2023-03-13T18:43:06.161818",
     "exception": false,
     "start_time": "2023-03-13T18:43:06.157384",
     "status": "completed"
    },
    "tags": []
   },
   "source": [
    "<font color='blue'>**Dataset**</font>"
   ]
  },
  {
   "cell_type": "code",
   "execution_count": 12,
   "id": "0d674eca",
   "metadata": {
    "colab": {
     "base_uri": "https://localhost:8080/"
    },
    "execution": {
     "iopub.execute_input": "2023-03-13T18:43:06.172970Z",
     "iopub.status.busy": "2023-03-13T18:43:06.172533Z",
     "iopub.status.idle": "2023-03-13T18:43:06.311612Z",
     "shell.execute_reply": "2023-03-13T18:43:06.309914Z"
    },
    "id": "0d674eca",
    "outputId": "4ee3b0c6-6525-4744-bf9a-3894d7541f22",
    "papermill": {
     "duration": 0.147979,
     "end_time": "2023-03-13T18:43:06.314321",
     "exception": false,
     "start_time": "2023-03-13T18:43:06.166342",
     "status": "completed"
    },
    "tags": []
   },
   "outputs": [
    {
     "name": "stdout",
     "output_type": "stream",
     "text": [
      "(512, 16) (512, 16) (512, 16)\n"
     ]
    }
   ],
   "source": [
    "class Dataset:\n",
    "    def __init__(self, data, tknizer_ita, tknizer_eng, max_len):\n",
    "        self.encoder_inps = data['incorrect'].values\n",
    "        self.decoder_inps = data['correct_inp'].values\n",
    "        self.decoder_outs = data['correct_out'].values\n",
    "        self.tknizer_eng = tknizer_eng\n",
    "        self.tknizer_ita = tknizer_ita\n",
    "        self.max_len = max_len\n",
    "\n",
    "    def __getitem__(self, i):\n",
    "        self.encoder_seq = self.tknizer_ita.texts_to_sequences([self.encoder_inps[i]]) # need to pass list of values\n",
    "        self.decoder_inp_seq = self.tknizer_eng.texts_to_sequences([self.decoder_inps[i]])\n",
    "        self.decoder_out_seq = self.tknizer_eng.texts_to_sequences([self.decoder_outs[i]])\n",
    "\n",
    "        self.encoder_seq = pad_sequences(self.encoder_seq, maxlen=self.max_len, dtype='int32', padding='post')\n",
    "        self.decoder_inp_seq = pad_sequences(self.decoder_inp_seq, maxlen=self.max_len, dtype='int32', padding='post')\n",
    "        self.decoder_out_seq = pad_sequences(self.decoder_out_seq, maxlen=self.max_len, dtype='int32', padding='post')\n",
    "        return self.encoder_seq, self.decoder_inp_seq, self.decoder_out_seq\n",
    "\n",
    "    def __len__(self): # your model.fit_gen requires this function\n",
    "        return len(self.encoder_inps)\n",
    "    \n",
    "class Dataloder(tf.keras.utils.Sequence):    \n",
    "    def __init__(self, dataset, batch_size=1):\n",
    "        self.dataset = dataset\n",
    "        self.batch_size = batch_size\n",
    "        self.indexes = np.arange(len(self.dataset.encoder_inps))\n",
    "\n",
    "\n",
    "    def __getitem__(self, i):\n",
    "        start = i * self.batch_size\n",
    "        stop = (i + 1) * self.batch_size\n",
    "        data = []\n",
    "        for j in range(start, stop):\n",
    "            data.append(self.dataset[j])\n",
    "\n",
    "        batch = [np.squeeze(np.stack(samples, axis=1), axis=0) for samples in zip(*data)]\n",
    "        # we are creating data like ([italian, english_inp], english_out) these are already converted into seq\n",
    "        return tuple([[batch[0],batch[1]],batch[2]])\n",
    "\n",
    "    def __len__(self):  # your model.fit_gen requires this function\n",
    "        return len(self.indexes) // self.batch_size\n",
    "    \n",
    "    def on_epoch_end(self):\n",
    "        self.indexes = np.random.permutation(self.indexes)\n",
    "train_dataset = Dataset(train, incorrect_tk, correct_tk, 16)\n",
    "validation_dataset = Dataset(validation,  incorrect_tk, correct_tk, 16)\n",
    "\n",
    "train_dataloader = Dataloder(train_dataset, batch_size=512)\n",
    "validation_dataloader = Dataloder(validation_dataset, batch_size=512)\n",
    "\n",
    "\n",
    "\n",
    "print(train_dataloader[0][0][0].shape, train_dataloader[0][0][1].shape, train_dataloader[0][1].shape)"
   ]
  },
  {
   "cell_type": "markdown",
   "id": "5a462817",
   "metadata": {},
   "source": [
    "<font color='blue'>**Custom function to save the model**</font>"
   ]
  },
  {
   "cell_type": "code",
   "execution_count": 13,
   "id": "b80b90fd",
   "metadata": {
    "execution": {
     "iopub.execute_input": "2023-03-13T18:43:06.325699Z",
     "iopub.status.busy": "2023-03-13T18:43:06.324966Z",
     "iopub.status.idle": "2023-03-13T18:43:06.330667Z",
     "shell.execute_reply": "2023-03-13T18:43:06.329560Z"
    },
    "id": "b80b90fd",
    "papermill": {
     "duration": 0.013572,
     "end_time": "2023-03-13T18:43:06.333092",
     "exception": false,
     "start_time": "2023-03-13T18:43:06.319520",
     "status": "completed"
    },
    "tags": []
   },
   "outputs": [],
   "source": [
    "import matplotlib.pyplot as plt\n",
    "import seaborn as sns\n",
    "\n",
    "class CustomSaver(tf.keras.callbacks.Callback):\n",
    "    def on_epoch_end(self, epoch, logs={}):\n",
    "        self.model.save_weights(\"model_2/model_2_epoch_{}.h5\".format(epoch))\n",
    "            \n",
    "saver=CustomSaver()"
   ]
  },
  {
   "cell_type": "markdown",
   "id": "3220c0f1",
   "metadata": {},
   "source": [
    "<font color='blue'>**Metric to calculate F1_Beta Score while training**</font>\n",
    "- I did not use it because of the time it had taken for one epoch.\n",
    "- The calculations are huge hence increasing the time for an epoch."
   ]
  },
  {
   "cell_type": "code",
   "execution_count": 14,
   "id": "ae80339b",
   "metadata": {
    "execution": {
     "iopub.execute_input": "2023-03-13T18:43:06.343158Z",
     "iopub.status.busy": "2023-03-13T18:43:06.342874Z",
     "iopub.status.idle": "2023-03-13T18:43:06.488191Z",
     "shell.execute_reply": "2023-03-13T18:43:06.487184Z"
    },
    "id": "ae80339b",
    "papermill": {
     "duration": 0.153295,
     "end_time": "2023-03-13T18:43:06.490852",
     "exception": false,
     "start_time": "2023-03-13T18:43:06.337557",
     "status": "completed"
    },
    "tags": []
   },
   "outputs": [],
   "source": [
    "#\n",
    "from sklearn.metrics import fbeta_score\n",
    "\n",
    "tf.autograph.set_verbosity(0, True)\n",
    "@tf.function\n",
    "def f_beta_score(y_true, y_pred):\n",
    "  #print(y_pred.shape)\n",
    "  y_pred_sparse = tf.convert_to_tensor(np.argmax(y_pred, axis = -1), dtype = tf.float32)\n",
    "  #print(y_pred_sparse.shape)\n",
    "  fb_score = [ fbeta_score(y_true[i], y_pred_sparse[i],average = 'macro',beta = 0.5) for i in range(y_true.shape[0])]\n",
    "  #print(len(fb_score))\n",
    "  #print(y_true.shape[0])\n",
    "  return sum(fb_score)/len(fb_score)"
   ]
  },
  {
   "cell_type": "markdown",
   "id": "2cc9e2d5",
   "metadata": {},
   "source": [
    "<font color='blue'>**Training**</font>"
   ]
  },
  {
   "cell_type": "code",
   "execution_count": 17,
   "id": "fa3544ea",
   "metadata": {
    "execution": {
     "iopub.execute_input": "2023-03-13T18:43:06.502126Z",
     "iopub.status.busy": "2023-03-13T18:43:06.501254Z",
     "iopub.status.idle": "2023-03-14T04:56:49.044001Z",
     "shell.execute_reply": "2023-03-14T04:56:49.043042Z"
    },
    "id": "fa3544ea",
    "outputId": "60570061-dd97-4da2-a071-d543c77b246a",
    "papermill": {
     "duration": 36822.997656,
     "end_time": "2023-03-14T04:56:49.493274",
     "exception": false,
     "start_time": "2023-03-13T18:43:06.495618",
     "status": "completed"
    },
    "tags": []
   },
   "outputs": [
    {
     "name": "stdout",
     "output_type": "stream",
     "text": [
      "Epoch 1/30\n",
      "487/487 [==============================] - 245s 502ms/step - loss: 4.0035 - val_loss: 3.7904 - lr: 0.0010\n",
      "Epoch 2/30\n",
      "487/487 [==============================] - 237s 487ms/step - loss: 3.5068 - val_loss: 3.0916 - lr: 0.0010\n",
      "Epoch 3/30\n",
      "487/487 [==============================] - 234s 481ms/step - loss: 2.6533 - val_loss: 2.2319 - lr: 0.0010\n",
      "Epoch 4/30\n",
      "487/487 [==============================] - 234s 480ms/step - loss: 2.0183 - val_loss: 1.7374 - lr: 0.0010\n",
      "Epoch 5/30\n",
      "487/487 [==============================] - 232s 477ms/step - loss: 1.6309 - val_loss: 1.4129 - lr: 0.0010\n",
      "Epoch 6/30\n",
      "487/487 [==============================] - 232s 476ms/step - loss: 1.3626 - val_loss: 1.1802 - lr: 0.0010\n",
      "Epoch 7/30\n",
      "487/487 [==============================] - 228s 467ms/step - loss: 1.1607 - val_loss: 1.0026 - lr: 0.0010\n",
      "Epoch 8/30\n",
      "487/487 [==============================] - 228s 469ms/step - loss: 1.0005 - val_loss: 0.8642 - lr: 0.0010\n",
      "Epoch 9/30\n",
      "487/487 [==============================] - 229s 470ms/step - loss: 0.8695 - val_loss: 0.7446 - lr: 0.0010\n",
      "Epoch 10/30\n",
      "487/487 [==============================] - 226s 464ms/step - loss: 0.7644 - val_loss: 0.6615 - lr: 0.0010\n",
      "Epoch 11/30\n",
      "487/487 [==============================] - 225s 461ms/step - loss: 0.6808 - val_loss: 0.5921 - lr: 0.0010\n",
      "Epoch 12/30\n",
      "487/487 [==============================] - 225s 462ms/step - loss: 0.6139 - val_loss: 0.5320 - lr: 0.0010\n",
      "Epoch 13/30\n",
      "487/487 [==============================] - 225s 463ms/step - loss: 0.5579 - val_loss: 0.4824 - lr: 0.0010\n",
      "Epoch 14/30\n",
      "487/487 [==============================] - 226s 465ms/step - loss: 0.5090 - val_loss: 0.4404 - lr: 0.0010\n",
      "Epoch 15/30\n",
      "487/487 [==============================] - 226s 465ms/step - loss: 0.4659 - val_loss: 0.3980 - lr: 0.0010\n",
      "Epoch 16/30\n",
      "487/487 [==============================] - 226s 464ms/step - loss: 0.4265 - val_loss: 0.3661 - lr: 0.0010\n",
      "Epoch 17/30\n",
      "487/487 [==============================] - 226s 464ms/step - loss: 0.3909 - val_loss: 0.3353 - lr: 0.0010\n",
      "Epoch 18/30\n",
      "487/487 [==============================] - 227s 467ms/step - loss: 0.3586 - val_loss: 0.3052 - lr: 0.0010\n",
      "Epoch 19/30\n",
      "487/487 [==============================] - 228s 469ms/step - loss: 0.3284 - val_loss: 0.2769 - lr: 0.0010\n",
      "Epoch 20/30\n",
      "487/487 [==============================] - 225s 463ms/step - loss: 0.3005 - val_loss: 0.2532 - lr: 0.0010\n",
      "Epoch 21/30\n",
      "487/487 [==============================] - 226s 464ms/step - loss: 0.2748 - val_loss: 0.2281 - lr: 0.0010\n",
      "Epoch 22/30\n",
      "487/487 [==============================] - 226s 464ms/step - loss: 0.2503 - val_loss: 0.2082 - lr: 0.0010\n",
      "Epoch 23/30\n",
      "487/487 [==============================] - 227s 466ms/step - loss: 0.2280 - val_loss: 0.1882 - lr: 0.0010\n",
      "Epoch 24/30\n",
      "487/487 [==============================] - 223s 459ms/step - loss: 0.2073 - val_loss: 0.1683 - lr: 0.0010\n",
      "Epoch 25/30\n",
      "487/487 [==============================] - 227s 467ms/step - loss: 0.1886 - val_loss: 0.1519 - lr: 0.0010\n",
      "Epoch 26/30\n",
      "487/487 [==============================] - 226s 464ms/step - loss: 0.1706 - val_loss: 0.1365 - lr: 0.0010\n",
      "Epoch 27/30\n",
      "487/487 [==============================] - 227s 466ms/step - loss: 0.1540 - val_loss: 0.1234 - lr: 0.0010\n",
      "Epoch 28/30\n",
      "487/487 [==============================] - 226s 464ms/step - loss: 0.1390 - val_loss: 0.1102 - lr: 0.0010\n",
      "Epoch 29/30\n",
      "487/487 [==============================] - 225s 463ms/step - loss: 0.1250 - val_loss: 0.0990 - lr: 0.0010\n",
      "Epoch 30/30\n",
      "487/487 [==============================] - 227s 467ms/step - loss: 0.1125 - val_loss: 0.0871 - lr: 0.0010\n"
     ]
    },
    {
     "data": {
      "image/png": "[encoded data removed]",
      "text/plain": [
       "<Figure size 800x500 with 1 Axes>"
      ]
     },
     "metadata": {},
     "output_type": "display_data"
    }
   ],
   "source": [
    "input_vocab_size = len(incorrect_tk.word_index)+1\n",
    "output_vocab_size = len(correct_tk.word_index)+1\n",
    "\n",
    "input_len = 16\n",
    "output_len = 16\n",
    "\n",
    "lstm_size = 512\n",
    "att_units = 512\n",
    "dec_units = 512\n",
    "embedding_size = 300\n",
    "score_fun = 'dot'\n",
    "\n",
    "BATCH_SIZE=512\n",
    "\n",
    "lr_rate=tf.keras.callbacks.ReduceLROnPlateau(patience=4,min_delta=0.01)\n",
    "stopping=tf.keras.callbacks.EarlyStopping(min_delta=0.01, patience=5)\n",
    "\n",
    "#Create an object of encoder_decoder Model class, \n",
    "# Compile the model and fit the model\n",
    "model_1 = encoder_decoder(input_vocab_size,output_vocab_size,embedding_size,lstm_size,input_len,output_len,dec_units,score_fun,att_units, BATCH_SIZE)\n",
    "optimizer = tf.keras.optimizers.Adam()\n",
    "model_1.compile(optimizer=optimizer,loss=loss_function)\n",
    "train_steps=train.shape[0]//512\n",
    "valid_steps=validation.shape[0]//512\n",
    "model_1.fit(train_dataloader, steps_per_epoch=train_steps, epochs=30, validation_data=train_dataloader, validation_steps=valid_steps, callbacks=[lr_rate,stopping,saver])\n",
    "\n",
    "pd.DataFrame(model_1.history.history).plot(figsize=(8,5))\n",
    "plt.show()"
   ]
  },
  {
   "cell_type": "code",
   "execution_count": null,
   "id": "ec5fbad9",
   "metadata": {},
   "outputs": [
    {
     "name": "stdout",
     "output_type": "stream",
     "text": [
      "Epoch 1/30\n"
     ]
    },
    {
     "name": "stderr",
     "output_type": "stream",
     "text": [
      "/home/josephnadar1998/miniconda3/envs/tf/lib/python3.9/site-packages/tensorflow/python/data/ops/structured_function.py:256: UserWarning: Even though the `tf.config.experimental_run_functions_eagerly` option is set, this option does not apply to tf.data functions. To force eager execution of tf.data functions, please use `tf.data.experimental.enable_debug_mode()`.\n",
      "  warnings.warn(\n"
     ]
    },
    {
     "name": "stdout",
     "output_type": "stream",
     "text": [
      "487/487 [==============================] - 230s 472ms/step - loss: 0.1013 - val_loss: 0.0796 - lr: 0.0010\n",
      "Epoch 2/30\n",
      "487/487 [==============================] - 228s 469ms/step - loss: 0.0913 - val_loss: 0.0728 - lr: 0.0010\n",
      "Epoch 3/30\n",
      "487/487 [==============================] - 230s 473ms/step - loss: 0.0825 - val_loss: 0.0685 - lr: 0.0010\n",
      "Epoch 4/30\n",
      " 41/487 [=>............................] - ETA: 3:00 - loss: 0.0685"
     ]
    }
   ],
   "source": [
    "model_1.fit(train_dataloader, steps_per_epoch=train_steps, epochs=30, validation_data=train_dataloader, validation_steps=valid_steps, callbacks=[lr_rate,stopping,saver])\n"
   ]
  },
  {
   "cell_type": "markdown",
   "id": "d40326f5",
   "metadata": {},
   "source": [
    "The notebook disconnected, hence had to start again."
   ]
  },
  {
   "cell_type": "code",
   "execution_count": 15,
   "id": "a0afe585",
   "metadata": {},
   "outputs": [],
   "source": [
    "input_vocab_size = len(incorrect_tk.word_index)+1\n",
    "output_vocab_size = len(correct_tk.word_index)+1\n",
    "\n",
    "input_len = 16\n",
    "output_len = 16\n",
    "\n",
    "lstm_size = 512\n",
    "att_units = 512\n",
    "dec_units = 512\n",
    "embedding_size = 300\n",
    "score_fun = 'dot'\n",
    "\n",
    "BATCH_SIZE=512\n",
    "\n",
    "lr_rate=tf.keras.callbacks.ReduceLROnPlateau(patience=4,min_delta=0.01)\n",
    "stopping=tf.keras.callbacks.EarlyStopping(min_delta=0.01, patience=5)\n",
    "\n",
    "#Create an object of encoder_decoder Model class, \n",
    "# Compile the model and fit the model\n",
    "model_1 = encoder_decoder(input_vocab_size,output_vocab_size,embedding_size,lstm_size,input_len,output_len,dec_units,score_fun,att_units, BATCH_SIZE)\n",
    "optimizer = tf.keras.optimizers.Adam()\n",
    "model_1.compile(optimizer=optimizer,loss=loss_function)\n",
    "train_steps=train.shape[0]//512\n",
    "valid_steps=validation.shape[0]//512"
   ]
  },
  {
   "cell_type": "code",
   "execution_count": 16,
   "id": "add42d3b",
   "metadata": {},
   "outputs": [],
   "source": [
    "model_1.build((None,512,16))\n",
    "model_1.load_weights('model_2/model_2_epoch_2.h5')"
   ]
  },
  {
   "cell_type": "code",
   "execution_count": 17,
   "id": "c320c07d",
   "metadata": {},
   "outputs": [
    {
     "name": "stdout",
     "output_type": "stream",
     "text": [
      "Epoch 1/20\n"
     ]
    },
    {
     "name": "stderr",
     "output_type": "stream",
     "text": [
      "/home/josephnadar1998/miniconda3/envs/tf/lib/python3.9/site-packages/tensorflow/python/data/ops/structured_function.py:256: UserWarning: Even though the `tf.config.experimental_run_functions_eagerly` option is set, this option does not apply to tf.data functions. To force eager execution of tf.data functions, please use `tf.data.experimental.enable_debug_mode()`.\n",
      "  warnings.warn(\n"
     ]
    },
    {
     "name": "stdout",
     "output_type": "stream",
     "text": [
      "487/487 [==============================] - 226s 456ms/step - loss: 0.0808 - val_loss: 0.0607 - lr: 0.0010\n",
      "Epoch 2/20\n",
      "487/487 [==============================] - 222s 456ms/step - loss: 0.0683 - val_loss: 0.0539 - lr: 0.0010\n",
      "Epoch 3/20\n",
      "487/487 [==============================] - 210s 431ms/step - loss: 0.0612 - val_loss: 0.0512 - lr: 0.0010\n",
      "Epoch 4/20\n",
      "487/487 [==============================] - 212s 436ms/step - loss: 0.0570 - val_loss: 0.0465 - lr: 0.0010\n",
      "Epoch 5/20\n",
      "487/487 [==============================] - 208s 427ms/step - loss: 0.0529 - val_loss: 0.0430 - lr: 0.0010\n",
      "Epoch 6/20\n",
      "487/487 [==============================] - 211s 432ms/step - loss: 0.0491 - val_loss: 0.0412 - lr: 0.0010\n",
      "Epoch 7/20\n",
      "487/487 [==============================] - 206s 424ms/step - loss: 0.0452 - val_loss: 0.0371 - lr: 0.0010\n",
      "Epoch 8/20\n",
      "487/487 [==============================] - 205s 420ms/step - loss: 0.0418 - val_loss: 0.0343 - lr: 0.0010\n",
      "Epoch 9/20\n",
      "487/487 [==============================] - 204s 419ms/step - loss: 0.0386 - val_loss: 0.0327 - lr: 0.0010\n",
      "Epoch 10/20\n",
      "487/487 [==============================] - 207s 425ms/step - loss: 0.0362 - val_loss: 0.0309 - lr: 0.0010\n",
      "Epoch 11/20\n",
      "487/487 [==============================] - 206s 422ms/step - loss: 0.0345 - val_loss: 0.0314 - lr: 0.0010\n",
      "Epoch 12/20\n",
      "487/487 [==============================] - 204s 419ms/step - loss: 0.0344 - val_loss: 0.0297 - lr: 0.0010\n",
      "Epoch 13/20\n",
      "487/487 [==============================] - 207s 426ms/step - loss: 0.0196 - val_loss: 0.0120 - lr: 1.0000e-04\n",
      "Epoch 14/20\n",
      "487/487 [==============================] - 206s 424ms/step - loss: 0.0117 - val_loss: 0.0095 - lr: 1.0000e-04\n",
      "Epoch 15/20\n",
      "487/487 [==============================] - 208s 428ms/step - loss: 0.0096 - val_loss: 0.0082 - lr: 1.0000e-04\n",
      "Epoch 16/20\n",
      "487/487 [==============================] - 205s 422ms/step - loss: 0.0084 - val_loss: 0.0074 - lr: 1.0000e-04\n",
      "Epoch 17/20\n",
      "487/487 [==============================] - 208s 427ms/step - loss: 0.0076 - val_loss: 0.0067 - lr: 1.0000e-04\n",
      "Epoch 18/20\n",
      "487/487 [==============================] - 207s 425ms/step - loss: 0.0068 - val_loss: 0.0066 - lr: 1.0000e-05\n"
     ]
    },
    {
     "data": {
      "text/plain": [
       "<keras.callbacks.History at 0x7f9a423adcd0>"
      ]
     },
     "execution_count": 17,
     "metadata": {},
     "output_type": "execute_result"
    }
   ],
   "source": [
    "model_1.fit(train_dataloader, steps_per_epoch=train_steps, epochs=20, validation_data=train_dataloader, validation_steps=valid_steps, callbacks=[lr_rate,stopping,saver])"
   ]
  },
  {
   "cell_type": "markdown",
   "id": "d826383e",
   "metadata": {},
   "source": [
    "### Code for Inference"
   ]
  },
  {
   "cell_type": "code",
   "execution_count": 22,
   "id": "19ba679d",
   "metadata": {},
   "outputs": [
    {
     "name": "stdout",
     "output_type": "stream",
     "text": [
      "i cannot believe i have posted my entries in english for days at a time\n"
     ]
    },
    {
     "data": {
      "text/plain": [
       "'i cannot believe my entries in my entries in entries for weeks'"
      ]
     },
     "execution_count": 22,
     "metadata": {},
     "output_type": "execute_result"
    }
   ],
   "source": [
    "def predict_m1(input_sentence):\n",
    "\n",
    "    words=[]\n",
    "    input_sentence=[input_sentence]\n",
    "    batch_size=1\n",
    "    tokenized_sent=incorrect_tk.texts_to_sequences(input_sentence)\n",
    "    #print(tokenized_sent)\n",
    "    padded_sent=tf.keras.utils.pad_sequences(tokenized_sent, maxlen=16,padding='post' )\n",
    "    encoder_h, encoder_c=model_1.layers[0].initialize_states(batch_size)\n",
    "    encoder_output,encoder_h, encoder_c= model_1.layers[0](padded_sent, states=[encoder_h, encoder_c])\n",
    "\n",
    "    start_index=correct_tk.word_index.get('<start>')\n",
    "    end_index=correct_tk.word_index.get('<end>')\n",
    "    for i in range(16):\n",
    "        decoder_output, decoder_h, decoder_c, attention_weights, context_vector = model_1.layers[1].osd(tf.convert_to_tensor([[start_index]]), encoder_output, encoder_h, encoder_c)\n",
    "     \n",
    "        output_index=np.argmax(decoder_output[0])\n",
    "        start_index=output_index\n",
    "        #print(output_index)\n",
    "        encoder_h, encoder_c=decoder_h, decoder_c\n",
    "        words.append(correct_tk.index_word[output_index])\n",
    "\n",
    "        #print(list(tknizer_eng.word_index.keys())[output_index])\n",
    "\n",
    "        if output_index==end_index:\n",
    "            break;\n",
    "\n",
    "    return ' '.join(words[:-1])\n",
    "\n",
    "i=test.iloc[28]['incorrect']\n",
    "print(i)\n",
    "predict_m1(i)"
   ]
  }
 ],
 "metadata": {
  "accelerator": "GPU",
  "colab": {
   "provenance": []
  },
  "gpuClass": "standard",
  "kernelspec": {
   "display_name": "Python 3 (ipykernel)",
   "language": "python",
   "name": "python3"
  },
  "language_info": {
   "codemirror_mode": {
    "name": "ipython",
    "version": 3
   },
   "file_extension": ".py",
   "mimetype": "text/x-python",
   "name": "python",
   "nbconvert_exporter": "python",
   "pygments_lexer": "ipython3",
   "version": "3.9.16"
  },
  "papermill": {
   "default_parameters": {},
   "duration": 36846.718029,
   "end_time": "2023-03-14T04:56:52.973290",
   "environment_variables": {},
   "exception": null,
   "input_path": "__notebook__.ipynb",
   "output_path": "__notebook__.ipynb",
   "parameters": {},
   "start_time": "2023-03-13T18:42:46.255261",
   "version": "2.4.0"
  }
 },
 "nbformat": 4,
 "nbformat_minor": 5
}
