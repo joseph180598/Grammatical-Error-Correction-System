{
 "cells": [
  {
   "cell_type": "markdown",
   "id": "a4f4d15e",
   "metadata": {
    "execution": {
     "iopub.execute_input": "2023-03-13T08:10:23.006265Z",
     "iopub.status.busy": "2023-03-13T08:10:23.005875Z",
     "iopub.status.idle": "2023-03-13T08:10:23.015895Z",
     "shell.execute_reply": "2023-03-13T08:10:23.014756Z"
    },
    "id": "Btmkjw1ZNK-F",
    "papermill": {
     "duration": 0.021439,
     "end_time": "2023-03-13T08:10:23.018466",
     "exception": false,
     "start_time": "2023-03-13T08:10:22.997027",
     "status": "completed"
    },
    "tags": []
   },
   "source": [
    "### About:\n",
    "- In this notebook, I have processed the files needed for me to train the model which will be taking the sentence in a right to left fashion and output will also be from left to right.\n",
    "\n",
    "For example:\n",
    "\n",
    "**Input:** dance like i\n",
    "\n",
    "\n",
    "**Output:** i like to dance"
   ]
  },
  {
   "cell_type": "code",
   "execution_count": 1,
   "id": "5cd6dc7a",
   "metadata": {},
   "outputs": [],
   "source": [
    "import os\n",
    "os.environ['TF_CPP_MIN_LOG_LEVEL'] = '3'"
   ]
  },
  {
   "cell_type": "code",
   "execution_count": 2,
   "id": "056830c9",
   "metadata": {
    "execution": {
     "iopub.execute_input": "2023-03-13T08:10:23.031418Z",
     "iopub.status.busy": "2023-03-13T08:10:23.030970Z",
     "iopub.status.idle": "2023-03-13T08:10:34.156099Z",
     "shell.execute_reply": "2023-03-13T08:10:34.154616Z"
    },
    "id": "9QqElB_nKZos",
    "papermill": {
     "duration": 11.135014,
     "end_time": "2023-03-13T08:10:34.159073",
     "exception": false,
     "start_time": "2023-03-13T08:10:23.024059",
     "status": "completed"
    },
    "tags": []
   },
   "outputs": [],
   "source": [
    "import matplotlib.pyplot as plt\n",
    "%matplotlib inline\n",
    "# import seaborn as sns\n",
    "import pandas as pd\n",
    "import re\n",
    "import tensorflow as tf\n",
    "from tensorflow.keras.layers import Embedding, LSTM, Dense\n",
    "from tensorflow.keras.models import Model\n",
    "from tensorflow.keras.preprocessing.text import Tokenizer\n",
    "from tensorflow.keras.preprocessing.sequence import pad_sequences\n",
    "import numpy as np\n",
    "import seaborn as sns"
   ]
  },
  {
   "cell_type": "code",
   "execution_count": 4,
   "id": "4740f3e6",
   "metadata": {
    "execution": {
     "iopub.execute_input": "2023-03-13T08:10:34.172936Z",
     "iopub.status.busy": "2023-03-13T08:10:34.171717Z",
     "iopub.status.idle": "2023-03-13T08:10:36.960745Z",
     "shell.execute_reply": "2023-03-13T08:10:36.959366Z"
    },
    "papermill": {
     "duration": 2.799689,
     "end_time": "2023-03-13T08:10:36.964382",
     "exception": false,
     "start_time": "2023-03-13T08:10:34.164693",
     "status": "completed"
    },
    "tags": []
   },
   "outputs": [],
   "source": [
    "data=pd.read_csv('processed_sentence_pairs_unique.csv')"
   ]
  },
  {
   "cell_type": "code",
   "execution_count": 5,
   "id": "14e47477",
   "metadata": {
    "execution": {
     "iopub.execute_input": "2023-03-13T08:10:36.980599Z",
     "iopub.status.busy": "2023-03-13T08:10:36.979478Z",
     "iopub.status.idle": "2023-03-13T08:10:37.044811Z",
     "shell.execute_reply": "2023-03-13T08:10:37.043524Z"
    },
    "papermill": {
     "duration": 0.075451,
     "end_time": "2023-03-13T08:10:37.047502",
     "exception": false,
     "start_time": "2023-03-13T08:10:36.972051",
     "status": "completed"
    },
    "tags": []
   },
   "outputs": [
    {
     "data": {
      "text/html": [
       "<div>\n",
       "<style scoped>\n",
       "    .dataframe tbody tr th:only-of-type {\n",
       "        vertical-align: middle;\n",
       "    }\n",
       "\n",
       "    .dataframe tbody tr th {\n",
       "        vertical-align: top;\n",
       "    }\n",
       "\n",
       "    .dataframe thead th {\n",
       "        text-align: right;\n",
       "    }\n",
       "</style>\n",
       "<table border=\"1\" class=\"dataframe\">\n",
       "  <thead>\n",
       "    <tr style=\"text-align: right;\">\n",
       "      <th></th>\n",
       "      <th>incorrect</th>\n",
       "      <th>correct</th>\n",
       "    </tr>\n",
       "  </thead>\n",
       "  <tbody>\n",
       "    <tr>\n",
       "      <th>0</th>\n",
       "      <td>and he took in my favorite subject like soccer</td>\n",
       "      <td>and he took in my favorite subjects like soccer</td>\n",
       "    </tr>\n",
       "    <tr>\n",
       "      <th>1</th>\n",
       "      <td>actually who let me know about lang was him</td>\n",
       "      <td>actually he was the one who let me know about ...</td>\n",
       "    </tr>\n",
       "    <tr>\n",
       "      <th>2</th>\n",
       "      <td>his kanji is ability is much better than me</td>\n",
       "      <td>his kanji ability is much better than mine</td>\n",
       "    </tr>\n",
       "    <tr>\n",
       "      <th>3</th>\n",
       "      <td>we have known each other for only half a year ...</td>\n",
       "      <td>we have known each other for only half a year ...</td>\n",
       "    </tr>\n",
       "    <tr>\n",
       "      <th>4</th>\n",
       "      <td>i heard a sentence last night when i watched tv</td>\n",
       "      <td>i heard a sentence last night when i was watch...</td>\n",
       "    </tr>\n",
       "  </tbody>\n",
       "</table>\n",
       "</div>"
      ],
      "text/plain": [
       "                                           incorrect  \\\n",
       "0     and he took in my favorite subject like soccer   \n",
       "1        actually who let me know about lang was him   \n",
       "2        his kanji is ability is much better than me   \n",
       "3  we have known each other for only half a year ...   \n",
       "4    i heard a sentence last night when i watched tv   \n",
       "\n",
       "                                             correct  \n",
       "0    and he took in my favorite subjects like soccer  \n",
       "1  actually he was the one who let me know about ...  \n",
       "2         his kanji ability is much better than mine  \n",
       "3  we have known each other for only half a year ...  \n",
       "4  i heard a sentence last night when i was watch...  "
      ]
     },
     "execution_count": 5,
     "metadata": {},
     "output_type": "execute_result"
    }
   ],
   "source": [
    "data.drop('are_same', axis=1,inplace=True)\n",
    "data.head()\n"
   ]
  },
  {
   "cell_type": "code",
   "execution_count": 6,
   "id": "65144829",
   "metadata": {
    "execution": {
     "iopub.execute_input": "2023-03-13T08:10:37.061567Z",
     "iopub.status.busy": "2023-03-13T08:10:37.060322Z",
     "iopub.status.idle": "2023-03-13T08:10:37.068031Z",
     "shell.execute_reply": "2023-03-13T08:10:37.066942Z"
    },
    "papermill": {
     "duration": 0.017576,
     "end_time": "2023-03-13T08:10:37.070934",
     "exception": false,
     "start_time": "2023-03-13T08:10:37.053358",
     "status": "completed"
    },
    "tags": []
   },
   "outputs": [
    {
     "data": {
      "text/plain": [
       "(495873, 2)"
      ]
     },
     "execution_count": 6,
     "metadata": {},
     "output_type": "execute_result"
    }
   ],
   "source": [
    "data.shape"
   ]
  },
  {
   "cell_type": "markdown",
   "id": "e7dc8899",
   "metadata": {
    "id": "KTh6Q7DpNK-K",
    "papermill": {
     "duration": 0.005413,
     "end_time": "2023-03-13T08:10:37.082094",
     "exception": false,
     "start_time": "2023-03-13T08:10:37.076681",
     "status": "completed"
    },
    "tags": []
   },
   "source": [
    "#### Note:\n",
    "- From the EDA we can see that both the Correct & Incorrect sentence have a maximum sentence length of 68 after we have removed the outliers. But we do not have the computational resource to work on these kind of sentences, hence we are limiting the sentence length to 16, and then we will be working on them."
   ]
  },
  {
   "cell_type": "code",
   "execution_count": 7,
   "id": "9dc5f0b2",
   "metadata": {
    "execution": {
     "iopub.execute_input": "2023-03-13T08:10:37.096112Z",
     "iopub.status.busy": "2023-03-13T08:10:37.094973Z",
     "iopub.status.idle": "2023-03-13T08:10:37.795368Z",
     "shell.execute_reply": "2023-03-13T08:10:37.794154Z"
    },
    "papermill": {
     "duration": 0.710585,
     "end_time": "2023-03-13T08:10:37.798356",
     "exception": false,
     "start_time": "2023-03-13T08:10:37.087771",
     "status": "completed"
    },
    "tags": []
   },
   "outputs": [],
   "source": [
    "data['length']=data['correct'].astype(str).apply(lambda i:len(i.split(' ')))\n",
    "\n",
    "data=data[data['length']<=16]\n",
    "\n",
    "data.drop('length',axis=1, inplace=True)"
   ]
  },
  {
   "cell_type": "markdown",
   "id": "54998de2",
   "metadata": {
    "papermill": {
     "duration": 0.005314,
     "end_time": "2023-03-13T08:10:37.809540",
     "exception": false,
     "start_time": "2023-03-13T08:10:37.804226",
     "status": "completed"
    },
    "tags": []
   },
   "source": [
    "## Splitting the Data"
   ]
  },
  {
   "cell_type": "code",
   "execution_count": 8,
   "id": "f84a30ea",
   "metadata": {
    "execution": {
     "iopub.execute_input": "2023-03-13T08:10:37.823405Z",
     "iopub.status.busy": "2023-03-13T08:10:37.822224Z",
     "iopub.status.idle": "2023-03-13T08:10:38.715271Z",
     "shell.execute_reply": "2023-03-13T08:10:38.714253Z"
    },
    "papermill": {
     "duration": 0.902858,
     "end_time": "2023-03-13T08:10:38.718164",
     "exception": false,
     "start_time": "2023-03-13T08:10:37.815306",
     "status": "completed"
    },
    "tags": []
   },
   "outputs": [],
   "source": [
    "import pickle\n",
    "[train,test, validation]=pickle.load(open('main_data_1.pkl','rb'))"
   ]
  },
  {
   "cell_type": "code",
   "execution_count": 9,
   "id": "9acb5685",
   "metadata": {
    "execution": {
     "iopub.execute_input": "2023-03-13T08:10:38.732569Z",
     "iopub.status.busy": "2023-03-13T08:10:38.731515Z",
     "iopub.status.idle": "2023-03-13T08:10:38.744569Z",
     "shell.execute_reply": "2023-03-13T08:10:38.743692Z"
    },
    "papermill": {
     "duration": 0.022141,
     "end_time": "2023-03-13T08:10:38.746751",
     "exception": false,
     "start_time": "2023-03-13T08:10:38.724610",
     "status": "completed"
    },
    "tags": []
   },
   "outputs": [
    {
     "data": {
      "text/html": [
       "<div>\n",
       "<style scoped>\n",
       "    .dataframe tbody tr th:only-of-type {\n",
       "        vertical-align: middle;\n",
       "    }\n",
       "\n",
       "    .dataframe tbody tr th {\n",
       "        vertical-align: top;\n",
       "    }\n",
       "\n",
       "    .dataframe thead th {\n",
       "        text-align: right;\n",
       "    }\n",
       "</style>\n",
       "<table border=\"1\" class=\"dataframe\">\n",
       "  <thead>\n",
       "    <tr style=\"text-align: right;\">\n",
       "      <th></th>\n",
       "      <th>incorrect</th>\n",
       "      <th>correct</th>\n",
       "    </tr>\n",
       "  </thead>\n",
       "  <tbody>\n",
       "    <tr>\n",
       "      <th>337916</th>\n",
       "      <td>but there also are many competitions between them</td>\n",
       "      <td>but there are also many competitions between them</td>\n",
       "    </tr>\n",
       "    <tr>\n",
       "      <th>458022</th>\n",
       "      <td>i ate loach last night</td>\n",
       "      <td>i had loach for dinner last night</td>\n",
       "    </tr>\n",
       "    <tr>\n",
       "      <th>356023</th>\n",
       "      <td>and we chatted a little bit and started watchi...</td>\n",
       "      <td>after chatting a little bit we started watchin...</td>\n",
       "    </tr>\n",
       "    <tr>\n",
       "      <th>209263</th>\n",
       "      <td>three stright day off</td>\n",
       "      <td>three straight days off</td>\n",
       "    </tr>\n",
       "    <tr>\n",
       "      <th>413285</th>\n",
       "      <td>i will study urban planning at there</td>\n",
       "      <td>i will study urban planning there</td>\n",
       "    </tr>\n",
       "    <tr>\n",
       "      <th>...</th>\n",
       "      <td>...</td>\n",
       "      <td>...</td>\n",
       "    </tr>\n",
       "    <tr>\n",
       "      <th>107088</th>\n",
       "      <td>i would everything put inside me</td>\n",
       "      <td>i have everything they put inside me</td>\n",
       "    </tr>\n",
       "    <tr>\n",
       "      <th>369517</th>\n",
       "      <td>recently i am busy but my school life is limited</td>\n",
       "      <td>recently i have been busy and my school life i...</td>\n",
       "    </tr>\n",
       "    <tr>\n",
       "      <th>14271</th>\n",
       "      <td>do you have some plan to enjoy summer?</td>\n",
       "      <td>do you have some plans to enjoy summer?</td>\n",
       "    </tr>\n",
       "    <tr>\n",
       "      <th>305712</th>\n",
       "      <td>what a tight security!</td>\n",
       "      <td>what tight security!</td>\n",
       "    </tr>\n",
       "    <tr>\n",
       "      <th>277876</th>\n",
       "      <td>in these fishes there are dangerous fishes so ...</td>\n",
       "      <td>in this river there are dangerous fishes so yo...</td>\n",
       "    </tr>\n",
       "  </tbody>\n",
       "</table>\n",
       "<p>249523 rows × 2 columns</p>\n",
       "</div>"
      ],
      "text/plain": [
       "                                                incorrect  \\\n",
       "337916  but there also are many competitions between them   \n",
       "458022                             i ate loach last night   \n",
       "356023  and we chatted a little bit and started watchi...   \n",
       "209263                              three stright day off   \n",
       "413285               i will study urban planning at there   \n",
       "...                                                   ...   \n",
       "107088                   i would everything put inside me   \n",
       "369517   recently i am busy but my school life is limited   \n",
       "14271              do you have some plan to enjoy summer?   \n",
       "305712                             what a tight security!   \n",
       "277876  in these fishes there are dangerous fishes so ...   \n",
       "\n",
       "                                                  correct  \n",
       "337916  but there are also many competitions between them  \n",
       "458022                  i had loach for dinner last night  \n",
       "356023  after chatting a little bit we started watchin...  \n",
       "209263                            three straight days off  \n",
       "413285                  i will study urban planning there  \n",
       "...                                                   ...  \n",
       "107088               i have everything they put inside me  \n",
       "369517  recently i have been busy and my school life i...  \n",
       "14271             do you have some plans to enjoy summer?  \n",
       "305712                               what tight security!  \n",
       "277876  in this river there are dangerous fishes so yo...  \n",
       "\n",
       "[249523 rows x 2 columns]"
      ]
     },
     "execution_count": 9,
     "metadata": {},
     "output_type": "execute_result"
    }
   ],
   "source": [
    "train"
   ]
  },
  {
   "cell_type": "code",
   "execution_count": 10,
   "id": "31e632a8",
   "metadata": {
    "execution": {
     "iopub.execute_input": "2023-03-13T08:10:38.760696Z",
     "iopub.status.busy": "2023-03-13T08:10:38.760039Z",
     "iopub.status.idle": "2023-03-13T08:10:39.243115Z",
     "shell.execute_reply": "2023-03-13T08:10:39.241721Z"
    },
    "papermill": {
     "duration": 0.493457,
     "end_time": "2023-03-13T08:10:39.246081",
     "exception": false,
     "start_time": "2023-03-13T08:10:38.752624",
     "status": "completed"
    },
    "tags": []
   },
   "outputs": [],
   "source": [
    "def reverse(sent):\n",
    "    reverse_sent=sent.split(' ')[::-1]\n",
    "    return ' '.join(reverse_sent)\n",
    "\n",
    "train['incorrect']=train['incorrect'].apply(reverse)\n",
    "validation['incorrect']=validation['incorrect'].apply(reverse)"
   ]
  },
  {
   "cell_type": "code",
   "execution_count": 11,
   "id": "20f1f16e",
   "metadata": {
    "execution": {
     "iopub.execute_input": "2023-03-13T08:10:39.260794Z",
     "iopub.status.busy": "2023-03-13T08:10:39.260363Z",
     "iopub.status.idle": "2023-03-13T08:10:39.465360Z",
     "shell.execute_reply": "2023-03-13T08:10:39.464218Z"
    },
    "id": "Jq9bZbSMNK-L",
    "outputId": "ec06c702-2e21-4721-9362-aee1669677ad",
    "papermill": {
     "duration": 0.215945,
     "end_time": "2023-03-13T08:10:39.468250",
     "exception": false,
     "start_time": "2023-03-13T08:10:39.252305",
     "status": "completed"
    },
    "tags": []
   },
   "outputs": [
    {
     "data": {
      "text/html": [
       "<div>\n",
       "<style scoped>\n",
       "    .dataframe tbody tr th:only-of-type {\n",
       "        vertical-align: middle;\n",
       "    }\n",
       "\n",
       "    .dataframe tbody tr th {\n",
       "        vertical-align: top;\n",
       "    }\n",
       "\n",
       "    .dataframe thead th {\n",
       "        text-align: right;\n",
       "    }\n",
       "</style>\n",
       "<table border=\"1\" class=\"dataframe\">\n",
       "  <thead>\n",
       "    <tr style=\"text-align: right;\">\n",
       "      <th></th>\n",
       "      <th>incorrect</th>\n",
       "      <th>correct_inp</th>\n",
       "      <th>correct_out</th>\n",
       "    </tr>\n",
       "  </thead>\n",
       "  <tbody>\n",
       "    <tr>\n",
       "      <th>337916</th>\n",
       "      <td>them between competitions many are also there but</td>\n",
       "      <td>&lt;start&gt; but there are also many competitions b...</td>\n",
       "      <td>but there are also many competitions between t...</td>\n",
       "    </tr>\n",
       "    <tr>\n",
       "      <th>458022</th>\n",
       "      <td>night last loach ate i</td>\n",
       "      <td>&lt;start&gt; i had loach for dinner last night</td>\n",
       "      <td>i had loach for dinner last night &lt;end&gt;</td>\n",
       "    </tr>\n",
       "    <tr>\n",
       "      <th>356023</th>\n",
       "      <td>movie a watching started and bit little a chat...</td>\n",
       "      <td>&lt;start&gt; after chatting a little bit we started...</td>\n",
       "      <td>after chatting a little bit we started watchin...</td>\n",
       "    </tr>\n",
       "    <tr>\n",
       "      <th>209263</th>\n",
       "      <td>off day stright three</td>\n",
       "      <td>&lt;start&gt; three straight days off</td>\n",
       "      <td>three straight days off &lt;end&gt;</td>\n",
       "    </tr>\n",
       "    <tr>\n",
       "      <th>413285</th>\n",
       "      <td>there at planning urban study will i</td>\n",
       "      <td>&lt;start&gt; i will study urban planning there</td>\n",
       "      <td>i will study urban planning there &lt;end&gt;</td>\n",
       "    </tr>\n",
       "  </tbody>\n",
       "</table>\n",
       "</div>"
      ],
      "text/plain": [
       "                                                incorrect  \\\n",
       "337916  them between competitions many are also there but   \n",
       "458022                             night last loach ate i   \n",
       "356023  movie a watching started and bit little a chat...   \n",
       "209263                              off day stright three   \n",
       "413285               there at planning urban study will i   \n",
       "\n",
       "                                              correct_inp  \\\n",
       "337916  <start> but there are also many competitions b...   \n",
       "458022          <start> i had loach for dinner last night   \n",
       "356023  <start> after chatting a little bit we started...   \n",
       "209263                    <start> three straight days off   \n",
       "413285          <start> i will study urban planning there   \n",
       "\n",
       "                                              correct_out  \n",
       "337916  but there are also many competitions between t...  \n",
       "458022            i had loach for dinner last night <end>  \n",
       "356023  after chatting a little bit we started watchin...  \n",
       "209263                      three straight days off <end>  \n",
       "413285            i will study urban planning there <end>  "
      ]
     },
     "execution_count": 11,
     "metadata": {},
     "output_type": "execute_result"
    }
   ],
   "source": [
    "train['correct_inp'] = '<start> ' + train['correct'].astype(str)\n",
    "train['correct_out'] = train['correct'].astype(str) + ' <end>'\n",
    "\n",
    "train = train.drop(['correct'], axis=1)\n",
    "# only for the first sentance add a toke <end> so that we will have <end> in tokenizer\n",
    "train.head()"
   ]
  },
  {
   "cell_type": "code",
   "execution_count": 12,
   "id": "16aa4fa6",
   "metadata": {
    "execution": {
     "iopub.execute_input": "2023-03-13T08:10:39.482760Z",
     "iopub.status.busy": "2023-03-13T08:10:39.482314Z",
     "iopub.status.idle": "2023-03-13T08:10:39.495311Z",
     "shell.execute_reply": "2023-03-13T08:10:39.494163Z"
    },
    "papermill": {
     "duration": 0.023372,
     "end_time": "2023-03-13T08:10:39.497826",
     "exception": false,
     "start_time": "2023-03-13T08:10:39.474454",
     "status": "completed"
    },
    "tags": []
   },
   "outputs": [
    {
     "data": {
      "text/html": [
       "<div>\n",
       "<style scoped>\n",
       "    .dataframe tbody tr th:only-of-type {\n",
       "        vertical-align: middle;\n",
       "    }\n",
       "\n",
       "    .dataframe tbody tr th {\n",
       "        vertical-align: top;\n",
       "    }\n",
       "\n",
       "    .dataframe thead th {\n",
       "        text-align: right;\n",
       "    }\n",
       "</style>\n",
       "<table border=\"1\" class=\"dataframe\">\n",
       "  <thead>\n",
       "    <tr style=\"text-align: right;\">\n",
       "      <th></th>\n",
       "      <th>incorrect</th>\n",
       "      <th>correct</th>\n",
       "    </tr>\n",
       "  </thead>\n",
       "  <tbody>\n",
       "    <tr>\n",
       "      <th>264288</th>\n",
       "      <td>song beautiful so were they</td>\n",
       "      <td>they were such beautiful songs</td>\n",
       "    </tr>\n",
       "    <tr>\n",
       "      <th>386352</th>\n",
       "      <td>sleep to easy not can i therefor</td>\n",
       "      <td>so i can not sleep very well</td>\n",
       "    </tr>\n",
       "    <tr>\n",
       "      <th>126621</th>\n",
       "      <td>opinion his with agree totally i but china to ...</td>\n",
       "      <td>i have never gone to china but i totally agree...</td>\n",
       "    </tr>\n",
       "    <tr>\n",
       "      <th>121533</th>\n",
       "      <td>me help breath deep</td>\n",
       "      <td>deep breath helps me</td>\n",
       "    </tr>\n",
       "    <tr>\n",
       "      <th>359697</th>\n",
       "      <td>ranking world in scores high got people japane...</td>\n",
       "      <td>i admit that japanese people received high sco...</td>\n",
       "    </tr>\n",
       "    <tr>\n",
       "      <th>...</th>\n",
       "      <td>...</td>\n",
       "      <td>...</td>\n",
       "    </tr>\n",
       "    <tr>\n",
       "      <th>147342</th>\n",
       "      <td>work this finish must you</td>\n",
       "      <td>this work must be finished by you</td>\n",
       "    </tr>\n",
       "    <tr>\n",
       "      <th>197930</th>\n",
       "      <td>pictures take to festival obi to went i</td>\n",
       "      <td>i went to the obi festival to take pictures</td>\n",
       "    </tr>\n",
       "    <tr>\n",
       "      <th>77006</th>\n",
       "      <td>day my to came customer many</td>\n",
       "      <td>many customers came today</td>\n",
       "    </tr>\n",
       "    <tr>\n",
       "      <th>165890</th>\n",
       "      <td>shapes just than better are versions decoratio...</td>\n",
       "      <td>my friends said that the decorated versions ar...</td>\n",
       "    </tr>\n",
       "    <tr>\n",
       "      <th>264329</th>\n",
       "      <td>that? not is interesting sounds that</td>\n",
       "      <td>that sounds interesting does not it?</td>\n",
       "    </tr>\n",
       "  </tbody>\n",
       "</table>\n",
       "<p>62381 rows × 2 columns</p>\n",
       "</div>"
      ],
      "text/plain": [
       "                                                incorrect  \\\n",
       "264288                        song beautiful so were they   \n",
       "386352                   sleep to easy not can i therefor   \n",
       "126621  opinion his with agree totally i but china to ...   \n",
       "121533                                me help breath deep   \n",
       "359697  ranking world in scores high got people japane...   \n",
       "...                                                   ...   \n",
       "147342                          work this finish must you   \n",
       "197930            pictures take to festival obi to went i   \n",
       "77006                        day my to came customer many   \n",
       "165890  shapes just than better are versions decoratio...   \n",
       "264329               that? not is interesting sounds that   \n",
       "\n",
       "                                                  correct  \n",
       "264288                     they were such beautiful songs  \n",
       "386352                       so i can not sleep very well  \n",
       "126621  i have never gone to china but i totally agree...  \n",
       "121533                               deep breath helps me  \n",
       "359697  i admit that japanese people received high sco...  \n",
       "...                                                   ...  \n",
       "147342                  this work must be finished by you  \n",
       "197930        i went to the obi festival to take pictures  \n",
       "77006                           many customers came today  \n",
       "165890  my friends said that the decorated versions ar...  \n",
       "264329               that sounds interesting does not it?  \n",
       "\n",
       "[62381 rows x 2 columns]"
      ]
     },
     "execution_count": 12,
     "metadata": {},
     "output_type": "execute_result"
    }
   ],
   "source": [
    "validation"
   ]
  },
  {
   "cell_type": "code",
   "execution_count": 13,
   "id": "b2b0130c",
   "metadata": {
    "execution": {
     "iopub.execute_input": "2023-03-13T08:10:39.513794Z",
     "iopub.status.busy": "2023-03-13T08:10:39.513370Z",
     "iopub.status.idle": "2023-03-13T08:10:39.581274Z",
     "shell.execute_reply": "2023-03-13T08:10:39.580132Z"
    },
    "id": "1enW9UeKq0of",
    "papermill": {
     "duration": 0.078428,
     "end_time": "2023-03-13T08:10:39.583876",
     "exception": false,
     "start_time": "2023-03-13T08:10:39.505448",
     "status": "completed"
    },
    "tags": []
   },
   "outputs": [
    {
     "data": {
      "text/html": [
       "<div>\n",
       "<style scoped>\n",
       "    .dataframe tbody tr th:only-of-type {\n",
       "        vertical-align: middle;\n",
       "    }\n",
       "\n",
       "    .dataframe tbody tr th {\n",
       "        vertical-align: top;\n",
       "    }\n",
       "\n",
       "    .dataframe thead th {\n",
       "        text-align: right;\n",
       "    }\n",
       "</style>\n",
       "<table border=\"1\" class=\"dataframe\">\n",
       "  <thead>\n",
       "    <tr style=\"text-align: right;\">\n",
       "      <th></th>\n",
       "      <th>incorrect</th>\n",
       "      <th>correct_inp</th>\n",
       "      <th>correct_out</th>\n",
       "    </tr>\n",
       "  </thead>\n",
       "  <tbody>\n",
       "    <tr>\n",
       "      <th>264288</th>\n",
       "      <td>song beautiful so were they</td>\n",
       "      <td>&lt;start&gt; they were such beautiful songs</td>\n",
       "      <td>they were such beautiful songs &lt;end&gt;</td>\n",
       "    </tr>\n",
       "    <tr>\n",
       "      <th>386352</th>\n",
       "      <td>sleep to easy not can i therefor</td>\n",
       "      <td>&lt;start&gt; so i can not sleep very well</td>\n",
       "      <td>so i can not sleep very well &lt;end&gt;</td>\n",
       "    </tr>\n",
       "    <tr>\n",
       "      <th>126621</th>\n",
       "      <td>opinion his with agree totally i but china to ...</td>\n",
       "      <td>&lt;start&gt; i have never gone to china but i total...</td>\n",
       "      <td>i have never gone to china but i totally agree...</td>\n",
       "    </tr>\n",
       "    <tr>\n",
       "      <th>121533</th>\n",
       "      <td>me help breath deep</td>\n",
       "      <td>&lt;start&gt; deep breath helps me</td>\n",
       "      <td>deep breath helps me &lt;end&gt;</td>\n",
       "    </tr>\n",
       "    <tr>\n",
       "      <th>359697</th>\n",
       "      <td>ranking world in scores high got people japane...</td>\n",
       "      <td>&lt;start&gt; i admit that japanese people received ...</td>\n",
       "      <td>i admit that japanese people received high sco...</td>\n",
       "    </tr>\n",
       "  </tbody>\n",
       "</table>\n",
       "</div>"
      ],
      "text/plain": [
       "                                                incorrect  \\\n",
       "264288                        song beautiful so were they   \n",
       "386352                   sleep to easy not can i therefor   \n",
       "126621  opinion his with agree totally i but china to ...   \n",
       "121533                                me help breath deep   \n",
       "359697  ranking world in scores high got people japane...   \n",
       "\n",
       "                                              correct_inp  \\\n",
       "264288             <start> they were such beautiful songs   \n",
       "386352               <start> so i can not sleep very well   \n",
       "126621  <start> i have never gone to china but i total...   \n",
       "121533                       <start> deep breath helps me   \n",
       "359697  <start> i admit that japanese people received ...   \n",
       "\n",
       "                                              correct_out  \n",
       "264288               they were such beautiful songs <end>  \n",
       "386352                 so i can not sleep very well <end>  \n",
       "126621  i have never gone to china but i totally agree...  \n",
       "121533                         deep breath helps me <end>  \n",
       "359697  i admit that japanese people received high sco...  "
      ]
     },
     "execution_count": 13,
     "metadata": {},
     "output_type": "execute_result"
    }
   ],
   "source": [
    "validation['correct_inp'] = '<start> ' + validation['correct'].astype(str)\n",
    "validation['correct_out'] = validation['correct'].astype(str) + ' <end>'\n",
    "\n",
    "validation = validation.drop(['correct'], axis=1)\n",
    "# only for the first sentance add a toke <end> so that we will have <end> in tokenizer\n",
    "validation.head()"
   ]
  },
  {
   "cell_type": "code",
   "execution_count": 14,
   "id": "24cc38d1",
   "metadata": {
    "execution": {
     "iopub.execute_input": "2023-03-13T08:10:39.599772Z",
     "iopub.status.busy": "2023-03-13T08:10:39.599342Z",
     "iopub.status.idle": "2023-03-13T08:10:39.606667Z",
     "shell.execute_reply": "2023-03-13T08:10:39.605524Z"
    },
    "id": "4YEDHp4HrEKT",
    "papermill": {
     "duration": 0.018745,
     "end_time": "2023-03-13T08:10:39.609267",
     "exception": false,
     "start_time": "2023-03-13T08:10:39.590522",
     "status": "completed"
    },
    "tags": []
   },
   "outputs": [],
   "source": [
    "# for one sentence we will be adding <end> token so that the tokanizer learns the word <end>\n",
    "# with this we can use only one tokenizer for both encoder output and decoder output\n",
    "train['correct_inp'].iloc[0]= str(train.iloc[0]['correct_inp'])+' <end>'\n",
    "train['correct_out'].iloc[0]= str(train.iloc[0]['correct_out'])+' <end>'"
   ]
  },
  {
   "cell_type": "code",
   "execution_count": 15,
   "id": "9b5ed8fb",
   "metadata": {
    "execution": {
     "iopub.execute_input": "2023-03-13T08:10:39.625253Z",
     "iopub.status.busy": "2023-03-13T08:10:39.624409Z",
     "iopub.status.idle": "2023-03-13T08:10:39.639582Z",
     "shell.execute_reply": "2023-03-13T08:10:39.638100Z"
    },
    "id": "_i3GjoOaNK-N",
    "outputId": "d6c5b250-2c5e-4bb7-e14f-4b48fc3269bd",
    "papermill": {
     "duration": 0.026261,
     "end_time": "2023-03-13T08:10:39.642332",
     "exception": false,
     "start_time": "2023-03-13T08:10:39.616071",
     "status": "completed"
    },
    "tags": []
   },
   "outputs": [
    {
     "data": {
      "text/html": [
       "<div>\n",
       "<style scoped>\n",
       "    .dataframe tbody tr th:only-of-type {\n",
       "        vertical-align: middle;\n",
       "    }\n",
       "\n",
       "    .dataframe tbody tr th {\n",
       "        vertical-align: top;\n",
       "    }\n",
       "\n",
       "    .dataframe thead th {\n",
       "        text-align: right;\n",
       "    }\n",
       "</style>\n",
       "<table border=\"1\" class=\"dataframe\">\n",
       "  <thead>\n",
       "    <tr style=\"text-align: right;\">\n",
       "      <th></th>\n",
       "      <th>incorrect</th>\n",
       "      <th>correct_inp</th>\n",
       "      <th>correct_out</th>\n",
       "    </tr>\n",
       "  </thead>\n",
       "  <tbody>\n",
       "    <tr>\n",
       "      <th>337916</th>\n",
       "      <td>them between competitions many are also there but</td>\n",
       "      <td>&lt;start&gt; but there are also many competitions b...</td>\n",
       "      <td>but there are also many competitions between t...</td>\n",
       "    </tr>\n",
       "    <tr>\n",
       "      <th>458022</th>\n",
       "      <td>night last loach ate i</td>\n",
       "      <td>&lt;start&gt; i had loach for dinner last night</td>\n",
       "      <td>i had loach for dinner last night &lt;end&gt;</td>\n",
       "    </tr>\n",
       "    <tr>\n",
       "      <th>356023</th>\n",
       "      <td>movie a watching started and bit little a chat...</td>\n",
       "      <td>&lt;start&gt; after chatting a little bit we started...</td>\n",
       "      <td>after chatting a little bit we started watchin...</td>\n",
       "    </tr>\n",
       "    <tr>\n",
       "      <th>209263</th>\n",
       "      <td>off day stright three</td>\n",
       "      <td>&lt;start&gt; three straight days off</td>\n",
       "      <td>three straight days off &lt;end&gt;</td>\n",
       "    </tr>\n",
       "    <tr>\n",
       "      <th>413285</th>\n",
       "      <td>there at planning urban study will i</td>\n",
       "      <td>&lt;start&gt; i will study urban planning there</td>\n",
       "      <td>i will study urban planning there &lt;end&gt;</td>\n",
       "    </tr>\n",
       "    <tr>\n",
       "      <th>...</th>\n",
       "      <td>...</td>\n",
       "      <td>...</td>\n",
       "      <td>...</td>\n",
       "    </tr>\n",
       "    <tr>\n",
       "      <th>107088</th>\n",
       "      <td>me inside put everything would i</td>\n",
       "      <td>&lt;start&gt; i have everything they put inside me</td>\n",
       "      <td>i have everything they put inside me &lt;end&gt;</td>\n",
       "    </tr>\n",
       "    <tr>\n",
       "      <th>369517</th>\n",
       "      <td>limited is life school my but busy am i recently</td>\n",
       "      <td>&lt;start&gt; recently i have been busy and my schoo...</td>\n",
       "      <td>recently i have been busy and my school life i...</td>\n",
       "    </tr>\n",
       "    <tr>\n",
       "      <th>14271</th>\n",
       "      <td>summer? enjoy to plan some have you do</td>\n",
       "      <td>&lt;start&gt; do you have some plans to enjoy summer?</td>\n",
       "      <td>do you have some plans to enjoy summer? &lt;end&gt;</td>\n",
       "    </tr>\n",
       "    <tr>\n",
       "      <th>305712</th>\n",
       "      <td>security! tight a what</td>\n",
       "      <td>&lt;start&gt; what tight security!</td>\n",
       "      <td>what tight security! &lt;end&gt;</td>\n",
       "    </tr>\n",
       "    <tr>\n",
       "      <th>277876</th>\n",
       "      <td>river the in get not should you so fishes dang...</td>\n",
       "      <td>&lt;start&gt; in this river there are dangerous fish...</td>\n",
       "      <td>in this river there are dangerous fishes so yo...</td>\n",
       "    </tr>\n",
       "  </tbody>\n",
       "</table>\n",
       "<p>249523 rows × 3 columns</p>\n",
       "</div>"
      ],
      "text/plain": [
       "                                                incorrect  \\\n",
       "337916  them between competitions many are also there but   \n",
       "458022                             night last loach ate i   \n",
       "356023  movie a watching started and bit little a chat...   \n",
       "209263                              off day stright three   \n",
       "413285               there at planning urban study will i   \n",
       "...                                                   ...   \n",
       "107088                   me inside put everything would i   \n",
       "369517   limited is life school my but busy am i recently   \n",
       "14271              summer? enjoy to plan some have you do   \n",
       "305712                             security! tight a what   \n",
       "277876  river the in get not should you so fishes dang...   \n",
       "\n",
       "                                              correct_inp  \\\n",
       "337916  <start> but there are also many competitions b...   \n",
       "458022          <start> i had loach for dinner last night   \n",
       "356023  <start> after chatting a little bit we started...   \n",
       "209263                    <start> three straight days off   \n",
       "413285          <start> i will study urban planning there   \n",
       "...                                                   ...   \n",
       "107088       <start> i have everything they put inside me   \n",
       "369517  <start> recently i have been busy and my schoo...   \n",
       "14271     <start> do you have some plans to enjoy summer?   \n",
       "305712                       <start> what tight security!   \n",
       "277876  <start> in this river there are dangerous fish...   \n",
       "\n",
       "                                              correct_out  \n",
       "337916  but there are also many competitions between t...  \n",
       "458022            i had loach for dinner last night <end>  \n",
       "356023  after chatting a little bit we started watchin...  \n",
       "209263                      three straight days off <end>  \n",
       "413285            i will study urban planning there <end>  \n",
       "...                                                   ...  \n",
       "107088         i have everything they put inside me <end>  \n",
       "369517  recently i have been busy and my school life i...  \n",
       "14271       do you have some plans to enjoy summer? <end>  \n",
       "305712                         what tight security! <end>  \n",
       "277876  in this river there are dangerous fishes so yo...  \n",
       "\n",
       "[249523 rows x 3 columns]"
      ]
     },
     "execution_count": 15,
     "metadata": {},
     "output_type": "execute_result"
    }
   ],
   "source": [
    "train"
   ]
  },
  {
   "cell_type": "code",
   "execution_count": 16,
   "id": "a8ace762",
   "metadata": {
    "execution": {
     "iopub.execute_input": "2023-03-13T08:10:39.659471Z",
     "iopub.status.busy": "2023-03-13T08:10:39.658281Z",
     "iopub.status.idle": "2023-03-13T08:10:39.860320Z",
     "shell.execute_reply": "2023-03-13T08:10:39.858697Z"
    },
    "id": "SRp3v7DZrOi3",
    "papermill": {
     "duration": 0.213899,
     "end_time": "2023-03-13T08:10:39.863511",
     "exception": false,
     "start_time": "2023-03-13T08:10:39.649612",
     "status": "completed"
    },
    "tags": []
   },
   "outputs": [],
   "source": [
    "[vocab_size_correct,vocab_size_incorrect,correct_tk,incorrect_tk]=pickle.load(open('tokenizer_files.pkl','rb'))"
   ]
  },
  {
   "cell_type": "code",
   "execution_count": 17,
   "id": "c0e5f3f8",
   "metadata": {
    "execution": {
     "iopub.execute_input": "2023-03-13T08:10:39.880120Z",
     "iopub.status.busy": "2023-03-13T08:10:39.879081Z",
     "iopub.status.idle": "2023-03-13T08:10:39.885949Z",
     "shell.execute_reply": "2023-03-13T08:10:39.884546Z"
    },
    "id": "Ez-q0gXhNK-O",
    "outputId": "22203d1c-5b8b-4cf0-cb27-521ce9b9100a",
    "papermill": {
     "duration": 0.019769,
     "end_time": "2023-03-13T08:10:39.890328",
     "exception": false,
     "start_time": "2023-03-13T08:10:39.870559",
     "status": "completed"
    },
    "tags": []
   },
   "outputs": [
    {
     "name": "stdout",
     "output_type": "stream",
     "text": [
      "2\n",
      "20421\n",
      "1\n"
     ]
    }
   ],
   "source": [
    "print(correct_tk.word_index.get('<start>'))\n",
    "print(correct_tk.word_index.get('<end>'))\n",
    "print(correct_tk.word_index.get('<UNK>'))\n"
   ]
  },
  {
   "cell_type": "code",
   "execution_count": 18,
   "id": "4c2a13ba",
   "metadata": {
    "execution": {
     "iopub.execute_input": "2023-03-13T08:10:39.910446Z",
     "iopub.status.busy": "2023-03-13T08:10:39.909804Z",
     "iopub.status.idle": "2023-03-13T08:10:39.928413Z",
     "shell.execute_reply": "2023-03-13T08:10:39.926411Z"
    },
    "id": "vgcFdsP-NK-O",
    "outputId": "054b5a51-30b3-482a-9218-2dfae06fe7d6",
    "papermill": {
     "duration": 0.033369,
     "end_time": "2023-03-13T08:10:39.931730",
     "exception": false,
     "start_time": "2023-03-13T08:10:39.898361",
     "status": "completed"
    },
    "tags": []
   },
   "outputs": [
    {
     "name": "stdout",
     "output_type": "stream",
     "text": [
      "40176\n",
      "52192\n"
     ]
    }
   ],
   "source": [
    "vocab_size_correct=max(correct_tk.word_index.values())\n",
    "print(vocab_size_correct)\n",
    "vocab_size_incorrect=max(incorrect_tk.word_index.values())\n",
    "print(vocab_size_incorrect)"
   ]
  },
  {
   "cell_type": "code",
   "execution_count": 19,
   "id": "33fa5be8",
   "metadata": {
    "execution": {
     "iopub.execute_input": "2023-03-13T08:10:39.948251Z",
     "iopub.status.busy": "2023-03-13T08:10:39.947690Z",
     "iopub.status.idle": "2023-03-13T08:10:40.600878Z",
     "shell.execute_reply": "2023-03-13T08:10:40.599475Z"
    },
    "papermill": {
     "duration": 0.665152,
     "end_time": "2023-03-13T08:10:40.604078",
     "exception": false,
     "start_time": "2023-03-13T08:10:39.938926",
     "status": "completed"
    },
    "tags": []
   },
   "outputs": [],
   "source": [
    "pickle.dump([train,test, validation],open('main_data_2_reverse.pkl','wb'))"
   ]
  }
 ],
 "metadata": {
  "kernelspec": {
   "display_name": "Python 3 (ipykernel)",
   "language": "python",
   "name": "python3"
  },
  "language_info": {
   "codemirror_mode": {
    "name": "ipython",
    "version": 3
   },
   "file_extension": ".py",
   "mimetype": "text/x-python",
   "name": "python",
   "nbconvert_exporter": "python",
   "pygments_lexer": "ipython3",
   "version": "3.9.16"
  },
  "papermill": {
   "default_parameters": {},
   "duration": 31.806385,
   "end_time": "2023-03-13T08:10:44.120833",
   "environment_variables": {},
   "exception": null,
   "input_path": "__notebook__.ipynb",
   "output_path": "__notebook__.ipynb",
   "parameters": {},
   "start_time": "2023-03-13T08:10:12.314448",
   "version": "2.4.0"
  }
 },
 "nbformat": 4,
 "nbformat_minor": 5
}
