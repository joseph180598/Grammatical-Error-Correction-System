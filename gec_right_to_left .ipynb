{
 "cells": [
  {
   "cell_type": "markdown",
   "metadata": {
    "execution": {
     "iopub.execute_input": "2023-03-12T12:50:54.759348Z",
     "iopub.status.busy": "2023-03-12T12:50:54.758525Z",
     "iopub.status.idle": "2023-03-12T12:50:54.785617Z",
     "shell.execute_reply": "2023-03-12T12:50:54.784718Z",
     "shell.execute_reply.started": "2023-03-12T12:50:54.759310Z"
    },
    "id": "Btmkjw1ZNK-F"
   },
   "source": [
    "### This model takes the inputs in reverse and returns the outputs in the normal manner."
   ]
  },
  {
   "cell_type": "code",
   "execution_count": 1,
   "metadata": {},
   "outputs": [],
   "source": [
    "import os\n",
    "os.environ['TF_CPP_MIN_LOG_LEVEL'] = '3'"
   ]
  },
  {
   "cell_type": "code",
   "execution_count": 2,
   "metadata": {
    "execution": {
     "iopub.execute_input": "2023-03-12T12:50:57.495103Z",
     "iopub.status.busy": "2023-03-12T12:50:57.493916Z",
     "iopub.status.idle": "2023-03-12T12:51:06.072124Z",
     "shell.execute_reply": "2023-03-12T12:51:06.070850Z",
     "shell.execute_reply.started": "2023-03-12T12:50:57.495053Z"
    },
    "id": "9QqElB_nKZos"
   },
   "outputs": [],
   "source": [
    "import matplotlib.pyplot as plt\n",
    "%matplotlib inline\n",
    "# import seaborn as sns\n",
    "import pandas as pd\n",
    "import re\n",
    "import tensorflow as tf\n",
    "from tensorflow.keras.layers import Embedding, LSTM, Dense\n",
    "from tensorflow.keras.models import Model\n",
    "from tensorflow.keras.preprocessing.text import Tokenizer\n",
    "from tensorflow.keras.preprocessing.sequence import pad_sequences\n",
    "import numpy as np\n",
    "import seaborn as sns\n",
    "import pickle"
   ]
  },
  {
   "cell_type": "code",
   "execution_count": 3,
   "metadata": {
    "execution": {
     "iopub.execute_input": "2023-03-12T12:51:06.075244Z",
     "iopub.status.busy": "2023-03-12T12:51:06.074367Z",
     "iopub.status.idle": "2023-03-12T12:51:07.082613Z",
     "shell.execute_reply": "2023-03-12T12:51:07.080547Z",
     "shell.execute_reply.started": "2023-03-12T12:51:06.075201Z"
    },
    "id": "y5mJR9CkDxqf"
   },
   "outputs": [],
   "source": [
    "[train,test, validation]=pickle.load(open('main_data_2_reverse.pkl','rb'))"
   ]
  },
  {
   "cell_type": "code",
   "execution_count": 4,
   "metadata": {
    "execution": {
     "iopub.execute_input": "2023-03-12T12:51:07.084854Z",
     "iopub.status.busy": "2023-03-12T12:51:07.084161Z",
     "iopub.status.idle": "2023-03-12T12:51:07.265665Z",
     "shell.execute_reply": "2023-03-12T12:51:07.264591Z",
     "shell.execute_reply.started": "2023-03-12T12:51:07.084801Z"
    },
    "id": "Rrk--dXaDxqf"
   },
   "outputs": [],
   "source": [
    "[vocab_size_correct,vocab_size_incorrect,correct_tk,incorrect_tk]=pickle.load(open('tokenizer_files.pkl','rb'))"
   ]
  },
  {
   "cell_type": "code",
   "execution_count": 5,
   "metadata": {
    "colab": {
     "base_uri": "https://localhost:8080/"
    },
    "execution": {
     "iopub.execute_input": "2023-03-12T12:51:10.620331Z",
     "iopub.status.busy": "2023-03-12T12:51:10.619703Z",
     "iopub.status.idle": "2023-03-12T12:51:10.629427Z",
     "shell.execute_reply": "2023-03-12T12:51:10.628172Z",
     "shell.execute_reply.started": "2023-03-12T12:51:10.620292Z"
    },
    "id": "vgcFdsP-NK-O",
    "outputId": "b8de4ff8-205f-45f5-d05b-ff5196be26e4"
   },
   "outputs": [
    {
     "name": "stdout",
     "output_type": "stream",
     "text": [
      "40176\n",
      "52192\n"
     ]
    }
   ],
   "source": [
    "vocab_size_correct=max(correct_tk.word_index.values())\n",
    "print(vocab_size_correct)\n",
    "vocab_size_incorrect=max(incorrect_tk.word_index.values())\n",
    "print(vocab_size_incorrect)"
   ]
  },
  {
   "cell_type": "markdown",
   "metadata": {},
   "source": [
    "<font color='blue'>**Encoder**</font>"
   ]
  },
  {
   "cell_type": "code",
   "execution_count": 6,
   "metadata": {
    "execution": {
     "iopub.execute_input": "2023-03-12T12:51:26.402309Z",
     "iopub.status.busy": "2023-03-12T12:51:26.401625Z",
     "iopub.status.idle": "2023-03-12T12:51:26.411518Z",
     "shell.execute_reply": "2023-03-12T12:51:26.409704Z",
     "shell.execute_reply.started": "2023-03-12T12:51:26.402260Z"
    },
    "id": "Lx_5NA24KzRp"
   },
   "outputs": [],
   "source": [
    "class Encoder(tf.keras.Model):\n",
    "    '''\n",
    "    Encoder model -- That takes a input sequence and returns output sequence\n",
    "    '''\n",
    "\n",
    "    def __init__(self,inp_vocab_size,embedding_size,lstm_size,input_length):\n",
    "        super().__init__()\n",
    "        #Initialize Embedding layer\n",
    "        #Intialize Encoder LSTM layer\n",
    "        self.embedding_layer=Embedding(input_dim=inp_vocab_size,output_dim=embedding_size,input_length=input_length, mask_zero=True )\n",
    "        self.lstm_layer=LSTM(lstm_size, return_sequences=True, return_state=True)\n",
    "        self.lstm_size=lstm_size\n",
    "\n",
    "    def call(self,input_sequence,states):\n",
    "        '''\n",
    "        This function takes a sequence input and the initial states of the encoder.\n",
    "        Pass the input_sequence input to the Embedding layer, Pass the embedding layer ouput to encoder_lstm\n",
    "        returns -- All encoder_outputs, last time steps hidden and cell state\n",
    "        '''\n",
    "        input_1=self.embedding_layer(input_sequence)\n",
    "        output, output_h, output_c=self.lstm_layer(input_1, initial_state=states)\n",
    "        return output, output_h, output_c\n",
    "\n",
    "    def initialize_states(self,batch_size):\n",
    "        '''\n",
    "        Given a batch size it will return intial hidden state and intial cell state.\n",
    "        If batch size is 32- Hidden state is zeros of size [32,lstm_units], cell state zeros is of size [32,lstm_units]\n",
    "        '''\n",
    "        output_h, output_c=tf.zeros([batch_size,self.lstm_size]), tf.zeros([batch_size,self.lstm_size])\n",
    "        return output_h, output_c\n"
   ]
  },
  {
   "cell_type": "markdown",
   "metadata": {
    "id": "lXn278lhLYRM"
   },
   "source": [
    "<font color='blue'>**Attention**</font>"
   ]
  },
  {
   "cell_type": "code",
   "execution_count": 7,
   "metadata": {
    "execution": {
     "iopub.execute_input": "2023-03-12T12:51:28.621156Z",
     "iopub.status.busy": "2023-03-12T12:51:28.620767Z",
     "iopub.status.idle": "2023-03-12T12:51:28.638755Z",
     "shell.execute_reply": "2023-03-12T12:51:28.637726Z",
     "shell.execute_reply.started": "2023-03-12T12:51:28.621118Z"
    },
    "id": "ab5SNdPZLlur"
   },
   "outputs": [],
   "source": [
    "#Attention#\n",
    "class Attention(tf.keras.layers.Layer):\n",
    "    '''\n",
    "    Class the calculates score based on the scoring_function using Bahdanu attention mechanism.\n",
    "    '''\n",
    "    def __init__(self,scoring_function, att_units):\n",
    "        super().__init__()\n",
    "        # Please go through the reference notebook and research paper to complete the scoring functions\n",
    "        \n",
    "        self.att_units=att_units\n",
    "        self.scoring_function=scoring_function\n",
    "        self.dot=tf.keras.layers.Dot(axes=(1,2))\n",
    "        self.mult=tf.keras.layers.Multiply()\n",
    "        self.add=tf.keras.layers.Add()\n",
    "\n",
    "        pass\n",
    "    \n",
    "    def call(self,decoder_hidden_state,encoder_output):\n",
    "      '''\n",
    "      Attention mechanism takes two inputs current step -- decoder_hidden_state and all the encoder_outputs.\n",
    "      * Based on the scoring function we will find the score or similarity between decoder_hidden_state and encoder_output.\n",
    "      Multiply the score function with your encoder_outputs to get the context vector.\n",
    "      Function returns context vector and attention weights(softmax - scores)\n",
    "      '''\n",
    "      # Implement Dot score function here\n",
    "      #print('decoder_hidden_state',tf.expand_dims(decoder_hidden_state,1).shape, 'encoder_output', encoder_output.shape)\n",
    "      alphas=tf.matmul(encoder_output,tf.expand_dims(decoder_hidden_state,-1))\n",
    "      alphas=tf.nn.softmax(alphas)\n",
    "      context_vector=alphas*encoder_output\n",
    "      context_vector=tf.reduce_sum(context_vector, axis=1)\n",
    "      return context_vector,alphas\n",
    "    "
   ]
  },
  {
   "cell_type": "markdown",
   "metadata": {
    "id": "ic-FNEbfL2DN"
   },
   "source": [
    "<font color='blue'>**OneStepDecoder**</font>"
   ]
  },
  {
   "cell_type": "code",
   "execution_count": 8,
   "metadata": {
    "execution": {
     "iopub.execute_input": "2023-03-12T12:51:32.327878Z",
     "iopub.status.busy": "2023-03-12T12:51:32.327271Z",
     "iopub.status.idle": "2023-03-12T12:51:32.345996Z",
     "shell.execute_reply": "2023-03-12T12:51:32.343505Z",
     "shell.execute_reply.started": "2023-03-12T12:51:32.327830Z"
    },
    "id": "t8O6G9R9Dxqp"
   },
   "outputs": [],
   "source": [
    "class One_Step_Decoder(tf.keras.Model):\n",
    "    def __init__(self,tar_vocab_size, embedding_dim, input_length, dec_units ,score_fun ,att_units):\n",
    "        super().__init__()\n",
    "        # Initialize decoder embedding layer, LSTM and any other objects needed #, mask_zero=True, trainable=True ,weights=[embedding_matrix]\n",
    "        self.embedding_layer=Embedding(input_dim=tar_vocab_size, output_dim=embedding_dim, input_length=input_length, mask_zero=True, trainable=True )\n",
    "        self.lstm_layer=LSTM(dec_units, return_state=True, return_sequences=True)\n",
    "        self.att_units=att_units\n",
    "        self.score_fun=score_fun\n",
    "        self.tar_vocab_size=tar_vocab_size\n",
    "        self.dec_units=dec_units\n",
    "        self.dense_layer=tf.keras.layers.Dense(tar_vocab_size)\n",
    "        self.attention=Attention(score_fun,att_units)\n",
    "\n",
    "\n",
    "    def call(self,input_to_decoder, encoder_output, state_h,state_c):\n",
    "        '''\n",
    "        One step decoder mechanisim step by step:\n",
    "          A. Pass the input_to_decoder to the embedding layer and then get the output(batch_size,1,embedding_dim)\n",
    "          B. Using the encoder_output and decoder hidden state, compute the context vector.\n",
    "          C. Concat the context vector with the step A output\n",
    "          D. Pass the Step-C output to LSTM/GRU and get the decoder output and states(hidden and cell state)\n",
    "          E. Pass the decoder output to dense layer(vocab size) and store the result into output.\n",
    "          F. Return the states from step D, output from Step E, attention weights from Step -B\n",
    "        '''\n",
    "        result=self.embedding_layer(input_to_decoder)\n",
    "        result=tf.squeeze(result, axis=1)\n",
    "\n",
    "        context_vector, weights=self.attention(state_h, encoder_output)\n",
    "\n",
    "        output_1=tf.concat([context_vector, result],axis=1)\n",
    "        output_1=tf.expand_dims(output_1,1)\n",
    "        \n",
    "        decoder_outputs, decoder_h, decoder_c=self.lstm_layer(output_1, initial_state=[state_h,state_c])\n",
    "\n",
    "        \n",
    "        final_output=self.dense_layer(decoder_outputs)\n",
    "        final_output=tf.squeeze(final_output,axis=1)\n",
    "        \n",
    "        return final_output,decoder_h, decoder_c, weights,context_vector\n"
   ]
  },
  {
   "cell_type": "markdown",
   "metadata": {},
   "source": [
    "<font color='blue'>**Decoder**</font>"
   ]
  },
  {
   "cell_type": "code",
   "execution_count": 9,
   "metadata": {
    "execution": {
     "iopub.execute_input": "2023-03-12T12:51:34.464642Z",
     "iopub.status.busy": "2023-03-12T12:51:34.464230Z",
     "iopub.status.idle": "2023-03-12T12:51:34.474989Z",
     "shell.execute_reply": "2023-03-12T12:51:34.473858Z",
     "shell.execute_reply.started": "2023-03-12T12:51:34.464608Z"
    },
    "id": "NV-x31rj6Hc4"
   },
   "outputs": [],
   "source": [
    "class Decoder(tf.keras.Model):\n",
    "    def __init__(self,out_vocab_size, embedding_dim, input_length, dec_units ,score_fun ,att_units):\n",
    "      super().__init__()\n",
    "\n",
    "      #Intialize necessary variables and create an object from the class onestepdecoder\n",
    "      \n",
    "      self.input_length=input_length\n",
    "      self.dec_units=dec_units\n",
    "      self.score_fun=score_fun\n",
    "      self.att_units=att_units\n",
    "      self.out_vocab_size=out_vocab_size\n",
    "      self.embedding_dim=embedding_dim\n",
    "      self.osd=One_Step_Decoder(tar_vocab_size=self.out_vocab_size, embedding_dim=self.embedding_dim, \n",
    "                                                                                   input_length=self.input_length, dec_units=self.dec_units, score_fun=self.score_fun, att_units=self.att_units)\n",
    "      pass\n",
    "    tf.config.run_functions_eagerly(True)\n",
    "    @tf.function\n",
    "    def call(self, input_to_decoder,encoder_output,decoder_hidden_state,decoder_cell_state ):\n",
    "\n",
    "        #Initialize an empty Tensor array, that will store the outputs at each and every time step\n",
    "        #Create a tensor array as shown in the reference notebook\n",
    "        \n",
    "        #Iterate till the length of the decoder input\n",
    "            # Call onestepdecoder for each token in decoder_input\n",
    "            # Store the output in tensorarray\n",
    "        # Return the tensor array\n",
    "        #print(input_to_decoder.shape)\n",
    "        \n",
    "        output_array=tf.TensorArray(tf.float32,size=input_to_decoder.shape[1])\n",
    "        #print('input_to_decoder',input_to_decoder.shape)\n",
    "        for timestep in range(input_to_decoder.shape[1]):\n",
    "          #print(input_to_decoder.shape, encoder_output.shape, decoder_hidden_state.shape,decoder_cell_state.shape)\n",
    "          output,decoder_hidden_state,decoder_cell_state,attention_weights,context_vector=self.osd(input_to_decoder[:,timestep:timestep+1], encoder_output, decoder_hidden_state,decoder_cell_state)\n",
    "          output_array = output_array.write(timestep, output)\n",
    "          #output_array.write(timestep,output).mark_used()\n",
    "        #.mark_used()\n",
    "        all_output=tf.transpose(output_array.stack(), [1,0,2])\n",
    "        #print(all_output.shape)\n",
    "        return all_output"
   ]
  },
  {
   "cell_type": "markdown",
   "metadata": {
    "id": "WVRxB-FDMJWL"
   },
   "source": [
    "<font color='blue'>**Encoder Decoder Model**</font>"
   ]
  },
  {
   "cell_type": "code",
   "execution_count": 10,
   "metadata": {
    "execution": {
     "iopub.execute_input": "2023-03-12T12:51:36.383020Z",
     "iopub.status.busy": "2023-03-12T12:51:36.382080Z",
     "iopub.status.idle": "2023-03-12T12:51:36.392704Z",
     "shell.execute_reply": "2023-03-12T12:51:36.391609Z",
     "shell.execute_reply.started": "2023-03-12T12:51:36.382967Z"
    },
    "id": "FfqBIe20MT3D"
   },
   "outputs": [],
   "source": [
    "class encoder_decoder(tf.keras.Model):\n",
    "  def __init__(self,inp_vocab_size,out_vocab_size, embedding_size, lstm_size, input_length_l1, input_length_l2, dec_units, score_fun, att_units, batch_size):\n",
    "    super().__init__()\n",
    "    #Intialize objects from encoder decoder\n",
    "    self.encoder_block=Encoder(inp_vocab_size=inp_vocab_size,embedding_size=embedding_size, lstm_size=lstm_size, input_length=input_length_l1 )\n",
    "    self.decoder_block=Decoder(out_vocab_size=out_vocab_size, embedding_dim=embedding_size, input_length=input_length_l2, dec_units=dec_units, score_fun=score_fun, att_units=att_units)\n",
    "    self.batch_size=batch_size\n",
    "    pass\n",
    "\n",
    "  \n",
    "  def call(self,data):\n",
    "    #Intialize encoder states, Pass the encoder_sequence to the embedding layer\n",
    "    # Decoder initial states are encoder final states, Initialize it accordingly\n",
    "    # Pass the decoder sequence,encoder_output,decoder states to Decoder\n",
    "    # return the decoder output\n",
    "    input_sequence=data[0]\n",
    "    output_sequence=data[1]\n",
    "    #print(input_sequence.shape)\n",
    "    encoder_h, encoder_c=self.encoder_block.initialize_states(self.batch_size)\n",
    "    encoder_output, encoder_h, encoder_c=self.encoder_block(input_sequence, states=[encoder_h, encoder_c])\n",
    "    #input_to_decoder,encoder_output,decoder_hidden_state,decoder_cell_state\n",
    "    dec_h,dec_c=encoder_h, encoder_c\n",
    "    output_decoder =self.decoder_block(input_to_decoder=output_sequence,encoder_output=encoder_output,decoder_hidden_state=dec_h,decoder_cell_state=dec_c)\n",
    "    #output_decoder=self.soft_max(output_decoder)\n",
    "    return output_decoder"
   ]
  },
  {
   "cell_type": "markdown",
   "metadata": {},
   "source": [
    "<font color='blue'>**Custom Loss Function**</font>"
   ]
  },
  {
   "cell_type": "code",
   "execution_count": 11,
   "metadata": {
    "execution": {
     "iopub.execute_input": "2023-03-12T12:51:38.779221Z",
     "iopub.status.busy": "2023-03-12T12:51:38.778860Z",
     "iopub.status.idle": "2023-03-12T12:51:41.340401Z",
     "shell.execute_reply": "2023-03-12T12:51:41.339092Z",
     "shell.execute_reply.started": "2023-03-12T12:51:38.779189Z"
    },
    "id": "QY_3izrXMs8y"
   },
   "outputs": [],
   "source": [
    "#https://www.tensorflow.org/tutorials/text/image_captioning#model\n",
    "loss_object = tf.keras.losses.SparseCategoricalCrossentropy(\n",
    "    from_logits=True, reduction='none')\n",
    "\n",
    "# lr = 0.0001\n",
    "\n",
    "def loss_function(real, pred):\n",
    "    \"\"\" Custom loss function that will not consider the loss for padded zeros.\n",
    "    why are we using this, can't we use simple sparse categorical crossentropy?\n",
    "    Yes, you can use simple sparse categorical crossentropy as loss like we did in task-1. But in this loss function we are ignoring the loss\n",
    "    for the padded zeros. i.e when the input is zero then we donot need to worry what the output is. This padded zeros are added from our end\n",
    "    during preprocessing to make equal length for all the sentences.\"\"\"\n",
    "    \n",
    "    \n",
    "    mask = tf.math.logical_not(tf.math.equal(real, 0))\n",
    "    loss_ = loss_object(real, pred)\n",
    "\n",
    "    \n",
    "    mask = tf.cast(mask, dtype=loss_.dtype)\n",
    "\n",
    "    loss_ *= mask\n",
    "\n",
    "    \n",
    "    return tf.reduce_mean(loss_)\n",
    "optimizer = tf.keras.optimizers.Adam()"
   ]
  },
  {
   "cell_type": "markdown",
   "metadata": {
    "id": "2QlbWAqNNlqe"
   },
   "source": [
    "<font color='blue'>**Dataset**</font>"
   ]
  },
  {
   "cell_type": "code",
   "execution_count": 12,
   "metadata": {
    "colab": {
     "base_uri": "https://localhost:8080/"
    },
    "execution": {
     "iopub.execute_input": "2023-03-12T12:51:45.659871Z",
     "iopub.status.busy": "2023-03-12T12:51:45.659255Z",
     "iopub.status.idle": "2023-03-12T12:51:45.908937Z",
     "shell.execute_reply": "2023-03-12T12:51:45.907853Z",
     "shell.execute_reply.started": "2023-03-12T12:51:45.659825Z"
    },
    "id": "9lV4KyB2Dxqs",
    "outputId": "62c2bac1-4458-4916-d54b-4bcb0920559d"
   },
   "outputs": [
    {
     "name": "stdout",
     "output_type": "stream",
     "text": [
      "(512, 16) (512, 16) (512, 16)\n"
     ]
    }
   ],
   "source": [
    "class Dataset:\n",
    "    def __init__(self, data, tknizer_ita, tknizer_eng, max_len):\n",
    "        self.encoder_inps = data['incorrect'].values\n",
    "        self.decoder_inps = data['correct_inp'].values\n",
    "        self.decoder_outs = data['correct_out'].values\n",
    "        self.tknizer_eng = tknizer_eng\n",
    "        self.tknizer_ita = tknizer_ita\n",
    "        self.max_len = max_len\n",
    "\n",
    "    def __getitem__(self, i):\n",
    "        self.encoder_seq = self.tknizer_ita.texts_to_sequences([self.encoder_inps[i]]) # need to pass list of values\n",
    "        self.decoder_inp_seq = self.tknizer_eng.texts_to_sequences([self.decoder_inps[i]])\n",
    "        self.decoder_out_seq = self.tknizer_eng.texts_to_sequences([self.decoder_outs[i]])\n",
    "\n",
    "        self.encoder_seq = pad_sequences(self.encoder_seq, maxlen=self.max_len, dtype='int32', padding='post')\n",
    "        self.decoder_inp_seq = pad_sequences(self.decoder_inp_seq, maxlen=self.max_len, dtype='int32', padding='post')\n",
    "        self.decoder_out_seq = pad_sequences(self.decoder_out_seq, maxlen=self.max_len, dtype='int32', padding='post')\n",
    "        return self.encoder_seq, self.decoder_inp_seq, self.decoder_out_seq\n",
    "\n",
    "    def __len__(self): # your model.fit_gen requires this function\n",
    "        return len(self.encoder_inps)\n",
    "    \n",
    "class Dataloder(tf.keras.utils.Sequence):    \n",
    "    def __init__(self, dataset, batch_size=1):\n",
    "        self.dataset = dataset\n",
    "        self.batch_size = batch_size\n",
    "        self.indexes = np.arange(len(self.dataset.encoder_inps))\n",
    "\n",
    "\n",
    "    def __getitem__(self, i):\n",
    "        start = i * self.batch_size\n",
    "        stop = (i + 1) * self.batch_size\n",
    "        data = []\n",
    "        for j in range(start, stop):\n",
    "            data.append(self.dataset[j])\n",
    "            \n",
    "        batch = [np.squeeze(np.stack(samples, axis=1), axis=0) for samples in zip(*data)]\n",
    "        # we are creating data like ([italian, english_inp], english_out) these are already converted into seq\n",
    "        return tuple([[batch[0],batch[1]],batch[2]])\n",
    "\n",
    "    def __len__(self):  # your model.fit_gen requires this function\n",
    "        return len(self.indexes) // self.batch_size\n",
    "    \n",
    "    def on_epoch_end(self):\n",
    "        self.indexes = np.random.permutation(self.indexes)\n",
    "train_dataset = Dataset(train, incorrect_tk, correct_tk, 16)\n",
    "validation_dataset = Dataset(validation,  incorrect_tk, correct_tk, 16)\n",
    "\n",
    "train_dataloader = Dataloder(train_dataset, batch_size=512)\n",
    "validation_dataloader = Dataloder(validation_dataset, batch_size=512)\n",
    "\n",
    "\n",
    "\n",
    "print(train_dataloader[0][0][0].shape, train_dataloader[0][0][1].shape, train_dataloader[0][1].shape)"
   ]
  },
  {
   "cell_type": "markdown",
   "metadata": {},
   "source": [
    "<font color='blue'>**Custom Function to save the models**</font>"
   ]
  },
  {
   "cell_type": "code",
   "execution_count": 13,
   "metadata": {
    "execution": {
     "iopub.execute_input": "2023-03-12T12:51:48.320477Z",
     "iopub.status.busy": "2023-03-12T12:51:48.319672Z",
     "iopub.status.idle": "2023-03-12T12:51:48.326714Z",
     "shell.execute_reply": "2023-03-12T12:51:48.325327Z",
     "shell.execute_reply.started": "2023-03-12T12:51:48.320434Z"
    },
    "id": "TiOA0aNfNK-g"
   },
   "outputs": [],
   "source": [
    "import matplotlib.pyplot as plt\n",
    "import seaborn as sns\n",
    "\n",
    "class CustomSaver(tf.keras.callbacks.Callback):\n",
    "    def on_epoch_end(self, epoch, logs={}):\n",
    "        self.model.save_weights(\"model_3/model_3_epoch_{}.h5\".format(epoch))\n",
    "            \n",
    "saver=CustomSaver()"
   ]
  },
  {
   "cell_type": "markdown",
   "metadata": {},
   "source": [
    "<font color='blue'>**Code to calculate the Fbeta score while training**</font>"
   ]
  },
  {
   "cell_type": "code",
   "execution_count": 14,
   "metadata": {
    "id": "bWJ4wgTD3F4s"
   },
   "outputs": [],
   "source": [
    "from sklearn.metrics import fbeta_score\n",
    "tf.autograph.set_verbosity(0, True)\n",
    "@tf.function\n",
    "def f_beta_score(y_true, y_pred):\n",
    "  #print(y_true.shape,y_pred.shape)\n",
    "  y_pred_sparse = tf.convert_to_tensor(np.argmax(y_pred, axis = -1), dtype = tf.float32)\n",
    "  #print(y_pred_sparse.shape)\n",
    "  fb_score = [ fbeta_score(y_true[i], y_pred_sparse[i],average = 'macro',beta = 0.5) for i in range(y_true.shape[0])]#tf.py_function(fbeta_score, inp = [y, y_pred, 0.5], Tout=tf.float32)\n",
    "  return sum(fb_score)/len(fb_score)"
   ]
  },
  {
   "cell_type": "markdown",
   "metadata": {},
   "source": [
    "<font color='blue'>**Training**</font>"
   ]
  },
  {
   "cell_type": "code",
   "execution_count": 16,
   "metadata": {
    "colab": {
     "base_uri": "https://localhost:8080/",
     "height": 585
    },
    "execution": {
     "iopub.execute_input": "2023-03-12T12:52:04.198373Z",
     "iopub.status.busy": "2023-03-12T12:52:04.197360Z"
    },
    "id": "XJTdlZLyNK-g",
    "outputId": "3cc704c0-5fd1-484c-a8f6-8e30a25ba44e"
   },
   "outputs": [
    {
     "name": "stdout",
     "output_type": "stream",
     "text": [
      "Epoch 1/50\n",
      "487/487 [==============================] - 223s 458ms/step - loss: 3.9391 - val_loss: 3.6201 - lr: 0.0010\n",
      "Epoch 2/50\n",
      "487/487 [==============================] - 219s 451ms/step - loss: 3.3585 - val_loss: 3.0445 - lr: 0.0010\n",
      "Epoch 3/50\n",
      "487/487 [==============================] - 217s 446ms/step - loss: 2.7004 - val_loss: 2.2804 - lr: 0.0010\n",
      "Epoch 4/50\n",
      "487/487 [==============================] - 212s 436ms/step - loss: 2.0434 - val_loss: 1.7580 - lr: 0.0010\n",
      "Epoch 5/50\n",
      "487/487 [==============================] - 210s 431ms/step - loss: 1.6401 - val_loss: 1.4273 - lr: 0.0010\n",
      "Epoch 6/50\n",
      "487/487 [==============================] - 207s 425ms/step - loss: 1.3659 - val_loss: 1.1868 - lr: 0.0010\n",
      "Epoch 7/50\n",
      "487/487 [==============================] - 210s 431ms/step - loss: 1.1634 - val_loss: 1.0086 - lr: 0.0010\n",
      "Epoch 8/50\n",
      "487/487 [==============================] - 206s 422ms/step - loss: 1.0037 - val_loss: 0.8610 - lr: 0.0010\n",
      "Epoch 9/50\n",
      "487/487 [==============================] - 207s 426ms/step - loss: 0.8724 - val_loss: 0.7496 - lr: 0.0010\n",
      "Epoch 10/50\n",
      "487/487 [==============================] - 207s 425ms/step - loss: 0.7640 - val_loss: 0.6582 - lr: 0.0010\n",
      "Epoch 11/50\n",
      "487/487 [==============================] - 209s 429ms/step - loss: 0.6774 - val_loss: 0.5877 - lr: 0.0010\n",
      "Epoch 12/50\n",
      "487/487 [==============================] - 206s 424ms/step - loss: 0.6092 - val_loss: 0.5294 - lr: 0.0010\n",
      "Epoch 13/50\n",
      "487/487 [==============================] - 207s 426ms/step - loss: 0.5517 - val_loss: 0.4769 - lr: 0.0010\n",
      "Epoch 14/50\n",
      "487/487 [==============================] - 206s 423ms/step - loss: 0.5021 - val_loss: 0.4330 - lr: 0.0010\n",
      "Epoch 15/50\n",
      "487/487 [==============================] - 206s 423ms/step - loss: 0.4575 - val_loss: 0.3932 - lr: 0.0010\n",
      "Epoch 16/50\n",
      "487/487 [==============================] - 206s 423ms/step - loss: 0.4170 - val_loss: 0.3561 - lr: 0.0010\n",
      "Epoch 17/50\n",
      "487/487 [==============================] - 212s 435ms/step - loss: 0.3806 - val_loss: 0.3232 - lr: 0.0010\n",
      "Epoch 18/50\n",
      "487/487 [==============================] - 209s 429ms/step - loss: 0.3470 - val_loss: 0.2885 - lr: 0.0010\n",
      "Epoch 19/50\n",
      "487/487 [==============================] - 204s 419ms/step - loss: 0.3156 - val_loss: 0.2661 - lr: 0.0010\n",
      "Epoch 20/50\n",
      "487/487 [==============================] - 206s 422ms/step - loss: 0.2873 - val_loss: 0.2391 - lr: 0.0010\n",
      "Epoch 21/50\n",
      "487/487 [==============================] - 204s 419ms/step - loss: 0.2610 - val_loss: 0.2159 - lr: 0.0010\n",
      "Epoch 22/50\n",
      "487/487 [==============================] - 213s 438ms/step - loss: 0.2375 - val_loss: 0.1917 - lr: 0.0010\n",
      "Epoch 23/50\n",
      "487/487 [==============================] - 209s 430ms/step - loss: 0.2149 - val_loss: 0.1756 - lr: 0.0010\n",
      "Epoch 24/50\n",
      "487/487 [==============================] - 211s 433ms/step - loss: 0.1949 - val_loss: 0.1577 - lr: 0.0010\n",
      "Epoch 25/50\n",
      "487/487 [==============================] - 205s 421ms/step - loss: 0.1760 - val_loss: 0.1441 - lr: 0.0010\n",
      "Epoch 26/50\n",
      "487/487 [==============================] - 208s 426ms/step - loss: 0.1588 - val_loss: 0.1278 - lr: 0.0010\n",
      "Epoch 27/50\n",
      "487/487 [==============================] - 204s 420ms/step - loss: 0.1431 - val_loss: 0.1151 - lr: 0.0010\n",
      "Epoch 28/50\n",
      "487/487 [==============================] - 204s 418ms/step - loss: 0.1292 - val_loss: 0.1056 - lr: 0.0010\n",
      "Epoch 29/50\n",
      "487/487 [==============================] - 206s 424ms/step - loss: 0.1167 - val_loss: 0.0971 - lr: 0.0010\n",
      "Epoch 30/50\n",
      "487/487 [==============================] - 209s 430ms/step - loss: 0.1048 - val_loss: 0.0852 - lr: 0.0010\n",
      "Epoch 31/50\n",
      "487/487 [==============================] - 206s 423ms/step - loss: 0.0947 - val_loss: 0.0785 - lr: 0.0010\n",
      "Epoch 32/50\n",
      "487/487 [==============================] - 205s 422ms/step - loss: 0.0862 - val_loss: 0.0702 - lr: 0.0010\n",
      "Epoch 33/50\n",
      "487/487 [==============================] - 207s 425ms/step - loss: 0.0783 - val_loss: 0.0626 - lr: 0.0010\n",
      "Epoch 34/50\n",
      "487/487 [==============================] - 205s 421ms/step - loss: 0.0707 - val_loss: 0.0580 - lr: 0.0010\n",
      "Epoch 35/50\n",
      "487/487 [==============================] - 205s 420ms/step - loss: 0.0648 - val_loss: 0.0525 - lr: 0.0010\n",
      "Epoch 36/50\n",
      "487/487 [==============================] - 208s 427ms/step - loss: 0.0597 - val_loss: 0.0486 - lr: 0.0010\n",
      "Epoch 37/50\n",
      "487/487 [==============================] - 206s 424ms/step - loss: 0.0556 - val_loss: 0.0459 - lr: 0.0010\n",
      "Epoch 38/50\n",
      "487/487 [==============================] - 215s 441ms/step - loss: 0.0510 - val_loss: 0.0419 - lr: 0.0010\n",
      "Epoch 39/50\n",
      "487/487 [==============================] - 229s 471ms/step - loss: 0.0473 - val_loss: 0.0405 - lr: 0.0010\n",
      "Epoch 40/50\n",
      "487/487 [==============================] - 214s 439ms/step - loss: 0.0446 - val_loss: 0.0377 - lr: 0.0010\n",
      "Epoch 41/50\n",
      "487/487 [==============================] - 211s 434ms/step - loss: 0.0428 - val_loss: 0.0380 - lr: 0.0010\n",
      "Epoch 42/50\n",
      "487/487 [==============================] - 205s 421ms/step - loss: 0.0264 - val_loss: 0.0174 - lr: 1.0000e-04\n",
      "Epoch 43/50\n",
      "487/487 [==============================] - 205s 422ms/step - loss: 0.0169 - val_loss: 0.0141 - lr: 1.0000e-04\n",
      "Epoch 44/50\n",
      "487/487 [==============================] - 206s 423ms/step - loss: 0.0141 - val_loss: 0.0122 - lr: 1.0000e-04\n",
      "Epoch 45/50\n",
      "487/487 [==============================] - 209s 429ms/step - loss: 0.0125 - val_loss: 0.0110 - lr: 1.0000e-04\n",
      "Epoch 46/50\n",
      "487/487 [==============================] - 204s 419ms/step - loss: 0.0113 - val_loss: 0.0101 - lr: 1.0000e-04\n",
      "Epoch 47/50\n",
      "487/487 [==============================] - 208s 428ms/step - loss: 0.0101 - val_loss: 0.0099 - lr: 1.0000e-05\n"
     ]
    },
    {
     "data": {
      "image/png": "[encoded data removed]",
      "text/plain": [
       "<Figure size 800x500 with 1 Axes>"
      ]
     },
     "metadata": {},
     "output_type": "display_data"
    }
   ],
   "source": [
    "input_vocab_size = len(incorrect_tk.word_index)+1\n",
    "output_vocab_size = len(correct_tk.word_index)+1\n",
    "\n",
    "input_len = 16\n",
    "output_len = 16\n",
    "\n",
    "lstm_size = 512\n",
    "att_units = 512\n",
    "dec_units = 512\n",
    "embedding_size = 300\n",
    "score_fun = 'dot'\n",
    "\n",
    "BATCH_SIZE=512\n",
    "\n",
    "lr_rate=tf.keras.callbacks.ReduceLROnPlateau(patience=4,min_delta=0.01)\n",
    "stopping=tf.keras.callbacks.EarlyStopping(min_delta=0.01, patience=5)\n",
    "\n",
    "#Create an object of encoder_decoder Model class, \n",
    "# Compile the model and fit the model\n",
    "model_1 = encoder_decoder(input_vocab_size,output_vocab_size,embedding_size,lstm_size,input_len,output_len,dec_units,score_fun,att_units, BATCH_SIZE)\n",
    "optimizer = tf.keras.optimizers.Adam()\n",
    "model_1.compile(optimizer=optimizer,loss=loss_function)\n",
    "train_steps=train.shape[0]//512\n",
    "valid_steps=validation.shape[0]//512\n",
    "model_1.fit(train_dataloader, steps_per_epoch=train_steps, epochs=50, validation_data=train_dataloader, validation_steps=valid_steps, callbacks=[lr_rate,stopping,saver])\n",
    "\n",
    "pd.DataFrame(model_1.history.history).plot(figsize=(8,5))\n",
    "plt.show()"
   ]
  },
  {
   "cell_type": "markdown",
   "metadata": {},
   "source": [
    "<font color='blue'>**Inference Code**</font>"
   ]
  },
  {
   "cell_type": "code",
   "execution_count": 27,
   "metadata": {},
   "outputs": [
    {
     "name": "stdout",
     "output_type": "stream",
     "text": [
      "i hope you will understand my feeling\n"
     ]
    },
    {
     "data": {
      "text/plain": [
       "'i hope you will understand my feelings'"
      ]
     },
     "execution_count": 27,
     "metadata": {},
     "output_type": "execute_result"
    }
   ],
   "source": [
    "def predict_m2(input_sentence):\n",
    "    \n",
    "    input_sentence=' '.join(input_sentence.split(' ')[::-1])\n",
    "    words=[]\n",
    "    input_sentence=[input_sentence]\n",
    "    batch_size=1\n",
    "    tokenized_sent=incorrect_tk.texts_to_sequences(input_sentence)\n",
    "    #print(tokenized_sent)\n",
    "    padded_sent=tf.keras.utils.pad_sequences(tokenized_sent, maxlen=16,padding='post' )\n",
    "    encoder_h, encoder_c=model_1.layers[0].initialize_states(batch_size)\n",
    "    encoder_output,encoder_h, encoder_c= model_1.layers[0](padded_sent, states=[encoder_h, encoder_c])\n",
    "\n",
    "    start_index=correct_tk.word_index.get('<start>')\n",
    "    end_index=correct_tk.word_index.get('<end>')\n",
    "    for i in range(16):\n",
    "        decoder_output, decoder_h, decoder_c, attention_weights, context_vector = model_1.layers[1].osd(tf.convert_to_tensor([[start_index]]), encoder_output, encoder_h, encoder_c)\n",
    "     \n",
    "        output_index=np.argmax(decoder_output[0])\n",
    "        start_index=output_index\n",
    "        #print(output_index)\n",
    "        encoder_h, encoder_c=decoder_h, decoder_c\n",
    "        words.append(correct_tk.index_word[output_index])\n",
    "\n",
    "        #print(list(tknizer_eng.word_index.keys())[output_index])\n",
    "\n",
    "        if output_index==end_index:\n",
    "            break;\n",
    "\n",
    "    return ' '.join(words[:-1])\n",
    "\n",
    "i=test.iloc[56]['incorrect']\n",
    "print(i)\n",
    "predict_m2(i)"
   ]
  }
 ],
 "metadata": {
  "accelerator": "GPU",
  "colab": {
   "provenance": []
  },
  "gpuClass": "standard",
  "kernelspec": {
   "display_name": "Python 3 (ipykernel)",
   "language": "python",
   "name": "python3"
  },
  "language_info": {
   "codemirror_mode": {
    "name": "ipython",
    "version": 3
   },
   "file_extension": ".py",
   "mimetype": "text/x-python",
   "name": "python",
   "nbconvert_exporter": "python",
   "pygments_lexer": "ipython3",
   "version": "3.9.16"
  }
 },
 "nbformat": 4,
 "nbformat_minor": 1
}
