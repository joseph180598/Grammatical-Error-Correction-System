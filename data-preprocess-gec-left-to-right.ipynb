{
 "cells": [
  {
   "cell_type": "markdown",
   "id": "16069883",
   "metadata": {
    "execution": {
     "iopub.execute_input": "2023-03-13T08:06:43.538973Z",
     "iopub.status.busy": "2023-03-13T08:06:43.538519Z",
     "iopub.status.idle": "2023-03-13T08:06:43.551363Z",
     "shell.execute_reply": "2023-03-13T08:06:43.549640Z"
    },
    "id": "Btmkjw1ZNK-F",
    "papermill": {
     "duration": 0.0253,
     "end_time": "2023-03-13T08:06:43.554782",
     "exception": false,
     "start_time": "2023-03-13T08:06:43.529482",
     "status": "completed"
    },
    "tags": []
   },
   "source": [
    "### About:\n",
    "- In this notebook, I have processed the files needed for me to train the model which will be taking the sentence in a left to right fashion and output will also be from left to right.\n",
    "\n",
    "For example:\n",
    "\n",
    "**Input:** i like dance\n",
    "\n",
    "\n",
    "**Output:** i like to dance"
   ]
  },
  {
   "cell_type": "code",
   "execution_count": 1,
   "id": "c54593cd",
   "metadata": {},
   "outputs": [],
   "source": [
    "import os\n",
    "os.environ['TF_CPP_MIN_LOG_LEVEL'] = '3'"
   ]
  },
  {
   "cell_type": "code",
   "execution_count": 49,
   "id": "2773d7ad",
   "metadata": {
    "execution": {
     "iopub.execute_input": "2023-03-13T08:06:43.568353Z",
     "iopub.status.busy": "2023-03-13T08:06:43.567906Z",
     "iopub.status.idle": "2023-03-13T08:06:54.814244Z",
     "shell.execute_reply": "2023-03-13T08:06:54.813046Z"
    },
    "id": "9QqElB_nKZos",
    "papermill": {
     "duration": 11.256726,
     "end_time": "2023-03-13T08:06:54.817410",
     "exception": false,
     "start_time": "2023-03-13T08:06:43.560684",
     "status": "completed"
    },
    "tags": []
   },
   "outputs": [],
   "source": [
    "import matplotlib.pyplot as plt\n",
    "%matplotlib inline\n",
    "# import seaborn as sns\n",
    "import pandas as pd\n",
    "import re\n",
    "import tensorflow as tf\n",
    "from tensorflow.keras.layers import Embedding, LSTM, Dense\n",
    "from tensorflow.keras.models import Model\n",
    "from tensorflow.keras.preprocessing.text import Tokenizer\n",
    "from tensorflow.keras.preprocessing.sequence import pad_sequences\n",
    "import numpy as np\n",
    "import seaborn as sns"
   ]
  },
  {
   "cell_type": "code",
   "execution_count": 50,
   "id": "ce156fe5",
   "metadata": {
    "execution": {
     "iopub.execute_input": "2023-03-13T08:06:54.832349Z",
     "iopub.status.busy": "2023-03-13T08:06:54.831034Z",
     "iopub.status.idle": "2023-03-13T08:06:57.704094Z",
     "shell.execute_reply": "2023-03-13T08:06:57.702603Z"
    },
    "papermill": {
     "duration": 2.884655,
     "end_time": "2023-03-13T08:06:57.707813",
     "exception": false,
     "start_time": "2023-03-13T08:06:54.823158",
     "status": "completed"
    },
    "tags": []
   },
   "outputs": [],
   "source": [
    "data=pd.read_csv('processed_sentence_pairs_unique.csv')"
   ]
  },
  {
   "cell_type": "code",
   "execution_count": 51,
   "id": "2ccafaca",
   "metadata": {
    "execution": {
     "iopub.execute_input": "2023-03-13T08:06:57.721599Z",
     "iopub.status.busy": "2023-03-13T08:06:57.720475Z",
     "iopub.status.idle": "2023-03-13T08:06:57.800170Z",
     "shell.execute_reply": "2023-03-13T08:06:57.798738Z"
    },
    "papermill": {
     "duration": 0.091181,
     "end_time": "2023-03-13T08:06:57.804395",
     "exception": false,
     "start_time": "2023-03-13T08:06:57.713214",
     "status": "completed"
    },
    "tags": []
   },
   "outputs": [
    {
     "data": {
      "text/html": [
       "<div>\n",
       "<style scoped>\n",
       "    .dataframe tbody tr th:only-of-type {\n",
       "        vertical-align: middle;\n",
       "    }\n",
       "\n",
       "    .dataframe tbody tr th {\n",
       "        vertical-align: top;\n",
       "    }\n",
       "\n",
       "    .dataframe thead th {\n",
       "        text-align: right;\n",
       "    }\n",
       "</style>\n",
       "<table border=\"1\" class=\"dataframe\">\n",
       "  <thead>\n",
       "    <tr style=\"text-align: right;\">\n",
       "      <th></th>\n",
       "      <th>incorrect</th>\n",
       "      <th>correct</th>\n",
       "    </tr>\n",
       "  </thead>\n",
       "  <tbody>\n",
       "    <tr>\n",
       "      <th>0</th>\n",
       "      <td>and he took in my favorite subject like soccer</td>\n",
       "      <td>and he took in my favorite subjects like soccer</td>\n",
       "    </tr>\n",
       "    <tr>\n",
       "      <th>1</th>\n",
       "      <td>actually who let me know about lang was him</td>\n",
       "      <td>actually he was the one who let me know about ...</td>\n",
       "    </tr>\n",
       "    <tr>\n",
       "      <th>2</th>\n",
       "      <td>his kanji is ability is much better than me</td>\n",
       "      <td>his kanji ability is much better than mine</td>\n",
       "    </tr>\n",
       "    <tr>\n",
       "      <th>3</th>\n",
       "      <td>we have known each other for only half a year ...</td>\n",
       "      <td>we have known each other for only half a year ...</td>\n",
       "    </tr>\n",
       "    <tr>\n",
       "      <th>4</th>\n",
       "      <td>i heard a sentence last night when i watched tv</td>\n",
       "      <td>i heard a sentence last night when i was watch...</td>\n",
       "    </tr>\n",
       "  </tbody>\n",
       "</table>\n",
       "</div>"
      ],
      "text/plain": [
       "                                           incorrect  \\\n",
       "0     and he took in my favorite subject like soccer   \n",
       "1        actually who let me know about lang was him   \n",
       "2        his kanji is ability is much better than me   \n",
       "3  we have known each other for only half a year ...   \n",
       "4    i heard a sentence last night when i watched tv   \n",
       "\n",
       "                                             correct  \n",
       "0    and he took in my favorite subjects like soccer  \n",
       "1  actually he was the one who let me know about ...  \n",
       "2         his kanji ability is much better than mine  \n",
       "3  we have known each other for only half a year ...  \n",
       "4  i heard a sentence last night when i was watch...  "
      ]
     },
     "execution_count": 51,
     "metadata": {},
     "output_type": "execute_result"
    }
   ],
   "source": [
    "data.drop('are_same', axis=1,inplace=True)\n",
    "data.head()\n"
   ]
  },
  {
   "cell_type": "code",
   "execution_count": 52,
   "id": "0ded6e23",
   "metadata": {
    "execution": {
     "iopub.execute_input": "2023-03-13T08:06:57.819112Z",
     "iopub.status.busy": "2023-03-13T08:06:57.817767Z",
     "iopub.status.idle": "2023-03-13T08:06:57.826874Z",
     "shell.execute_reply": "2023-03-13T08:06:57.825345Z"
    },
    "papermill": {
     "duration": 0.019358,
     "end_time": "2023-03-13T08:06:57.829808",
     "exception": false,
     "start_time": "2023-03-13T08:06:57.810450",
     "status": "completed"
    },
    "tags": []
   },
   "outputs": [
    {
     "data": {
      "text/plain": [
       "(495873, 2)"
      ]
     },
     "execution_count": 52,
     "metadata": {},
     "output_type": "execute_result"
    }
   ],
   "source": [
    "data.shape"
   ]
  },
  {
   "cell_type": "markdown",
   "id": "10435d41",
   "metadata": {
    "id": "KTh6Q7DpNK-K",
    "papermill": {
     "duration": 0.005436,
     "end_time": "2023-03-13T08:06:57.841174",
     "exception": false,
     "start_time": "2023-03-13T08:06:57.835738",
     "status": "completed"
    },
    "tags": []
   },
   "source": [
    "#### Note:\n",
    "- From the EDA we can see that both the Correct & Incorrect sentence have a maximum sentence length of 68 after we have removed the outliers. But we do not have the computational resource to work on these kind of sentences, hence we are limiting the sentence length to 16, and then we will be working on them."
   ]
  },
  {
   "cell_type": "code",
   "execution_count": 53,
   "id": "8d08c19b",
   "metadata": {
    "execution": {
     "iopub.execute_input": "2023-03-13T08:06:57.855558Z",
     "iopub.status.busy": "2023-03-13T08:06:57.854242Z",
     "iopub.status.idle": "2023-03-13T08:06:58.595294Z",
     "shell.execute_reply": "2023-03-13T08:06:58.593930Z"
    },
    "papermill": {
     "duration": 0.751749,
     "end_time": "2023-03-13T08:06:58.598694",
     "exception": false,
     "start_time": "2023-03-13T08:06:57.846945",
     "status": "completed"
    },
    "tags": []
   },
   "outputs": [],
   "source": [
    "data['length']=data['correct'].astype(str).apply(lambda i:len(i.split(' ')))\n",
    "\n",
    "data=data[data['length']<=16]\n",
    "\n",
    "data.drop('length',axis=1, inplace=True)"
   ]
  },
  {
   "cell_type": "markdown",
   "id": "9f08307c",
   "metadata": {
    "papermill": {
     "duration": 0.005524,
     "end_time": "2023-03-13T08:06:58.610078",
     "exception": false,
     "start_time": "2023-03-13T08:06:58.604554",
     "status": "completed"
    },
    "tags": []
   },
   "source": [
    "## Splitting the Data"
   ]
  },
  {
   "cell_type": "code",
   "execution_count": 54,
   "id": "35e8336d",
   "metadata": {
    "execution": {
     "iopub.execute_input": "2023-03-13T08:06:58.624014Z",
     "iopub.status.busy": "2023-03-13T08:06:58.623522Z",
     "iopub.status.idle": "2023-03-13T08:06:59.027949Z",
     "shell.execute_reply": "2023-03-13T08:06:59.026660Z"
    },
    "papermill": {
     "duration": 0.415117,
     "end_time": "2023-03-13T08:06:59.031130",
     "exception": false,
     "start_time": "2023-03-13T08:06:58.616013",
     "status": "completed"
    },
    "tags": []
   },
   "outputs": [],
   "source": [
    "from sklearn.model_selection import train_test_split\n",
    "train_1, test = train_test_split(data, test_size=0.2)\n",
    "train, validation = train_test_split(train_1, test_size=0.2)"
   ]
  },
  {
   "cell_type": "code",
   "execution_count": 55,
   "id": "0df8f4ba",
   "metadata": {
    "execution": {
     "iopub.execute_input": "2023-03-13T08:06:59.044345Z",
     "iopub.status.busy": "2023-03-13T08:06:59.043883Z",
     "iopub.status.idle": "2023-03-13T08:06:59.679611Z",
     "shell.execute_reply": "2023-03-13T08:06:59.678319Z"
    },
    "papermill": {
     "duration": 0.64614,
     "end_time": "2023-03-13T08:06:59.682925",
     "exception": false,
     "start_time": "2023-03-13T08:06:59.036785",
     "status": "completed"
    },
    "tags": []
   },
   "outputs": [],
   "source": [
    "import pickle\n",
    "\n",
    "pickle.dump([train,test, validation],open('main_data_1.pkl','wb'))"
   ]
  },
  {
   "cell_type": "code",
   "execution_count": 56,
   "id": "86ab0d27",
   "metadata": {
    "execution": {
     "iopub.execute_input": "2023-03-13T08:06:59.696923Z",
     "iopub.status.busy": "2023-03-13T08:06:59.696488Z",
     "iopub.status.idle": "2023-03-13T08:07:00.114314Z",
     "shell.execute_reply": "2023-03-13T08:07:00.112808Z"
    },
    "id": "Jq9bZbSMNK-L",
    "outputId": "ec06c702-2e21-4721-9362-aee1669677ad",
    "papermill": {
     "duration": 0.429747,
     "end_time": "2023-03-13T08:07:00.118626",
     "exception": false,
     "start_time": "2023-03-13T08:06:59.688879",
     "status": "completed"
    },
    "tags": []
   },
   "outputs": [
    {
     "data": {
      "text/html": [
       "<div>\n",
       "<style scoped>\n",
       "    .dataframe tbody tr th:only-of-type {\n",
       "        vertical-align: middle;\n",
       "    }\n",
       "\n",
       "    .dataframe tbody tr th {\n",
       "        vertical-align: top;\n",
       "    }\n",
       "\n",
       "    .dataframe thead th {\n",
       "        text-align: right;\n",
       "    }\n",
       "</style>\n",
       "<table border=\"1\" class=\"dataframe\">\n",
       "  <thead>\n",
       "    <tr style=\"text-align: right;\">\n",
       "      <th></th>\n",
       "      <th>incorrect</th>\n",
       "      <th>correct_inp</th>\n",
       "      <th>correct_out</th>\n",
       "    </tr>\n",
       "  </thead>\n",
       "  <tbody>\n",
       "    <tr>\n",
       "      <th>337916</th>\n",
       "      <td>but there also are many competitions between them</td>\n",
       "      <td>&lt;start&gt; but there are also many competitions b...</td>\n",
       "      <td>but there are also many competitions between t...</td>\n",
       "    </tr>\n",
       "    <tr>\n",
       "      <th>458022</th>\n",
       "      <td>i ate loach last night</td>\n",
       "      <td>&lt;start&gt; i had loach for dinner last night</td>\n",
       "      <td>i had loach for dinner last night &lt;end&gt;</td>\n",
       "    </tr>\n",
       "    <tr>\n",
       "      <th>356023</th>\n",
       "      <td>and we chatted a little bit and started watchi...</td>\n",
       "      <td>&lt;start&gt; after chatting a little bit we started...</td>\n",
       "      <td>after chatting a little bit we started watchin...</td>\n",
       "    </tr>\n",
       "    <tr>\n",
       "      <th>209263</th>\n",
       "      <td>three stright day off</td>\n",
       "      <td>&lt;start&gt; three straight days off</td>\n",
       "      <td>three straight days off &lt;end&gt;</td>\n",
       "    </tr>\n",
       "    <tr>\n",
       "      <th>413285</th>\n",
       "      <td>i will study urban planning at there</td>\n",
       "      <td>&lt;start&gt; i will study urban planning there</td>\n",
       "      <td>i will study urban planning there &lt;end&gt;</td>\n",
       "    </tr>\n",
       "  </tbody>\n",
       "</table>\n",
       "</div>"
      ],
      "text/plain": [
       "                                                incorrect  \\\n",
       "337916  but there also are many competitions between them   \n",
       "458022                             i ate loach last night   \n",
       "356023  and we chatted a little bit and started watchi...   \n",
       "209263                              three stright day off   \n",
       "413285               i will study urban planning at there   \n",
       "\n",
       "                                              correct_inp  \\\n",
       "337916  <start> but there are also many competitions b...   \n",
       "458022          <start> i had loach for dinner last night   \n",
       "356023  <start> after chatting a little bit we started...   \n",
       "209263                    <start> three straight days off   \n",
       "413285          <start> i will study urban planning there   \n",
       "\n",
       "                                              correct_out  \n",
       "337916  but there are also many competitions between t...  \n",
       "458022            i had loach for dinner last night <end>  \n",
       "356023  after chatting a little bit we started watchin...  \n",
       "209263                      three straight days off <end>  \n",
       "413285            i will study urban planning there <end>  "
      ]
     },
     "execution_count": 56,
     "metadata": {},
     "output_type": "execute_result"
    }
   ],
   "source": [
    "train['correct_inp'] = '<start> ' + train['correct'].astype(str)\n",
    "train['correct_out'] = train['correct'].astype(str) + ' <end>'\n",
    "\n",
    "train = train.drop(['correct'], axis=1)\n",
    "# only for the first sentance add a toke <end> so that we will have <end> in tokenizer\n",
    "train.head()"
   ]
  },
  {
   "cell_type": "code",
   "execution_count": 57,
   "id": "a18d78e9",
   "metadata": {
    "execution": {
     "iopub.execute_input": "2023-03-13T08:07:00.133678Z",
     "iopub.status.busy": "2023-03-13T08:07:00.133253Z",
     "iopub.status.idle": "2023-03-13T08:07:00.147704Z",
     "shell.execute_reply": "2023-03-13T08:07:00.146360Z"
    },
    "papermill": {
     "duration": 0.025693,
     "end_time": "2023-03-13T08:07:00.150933",
     "exception": false,
     "start_time": "2023-03-13T08:07:00.125240",
     "status": "completed"
    },
    "tags": []
   },
   "outputs": [
    {
     "data": {
      "text/html": [
       "<div>\n",
       "<style scoped>\n",
       "    .dataframe tbody tr th:only-of-type {\n",
       "        vertical-align: middle;\n",
       "    }\n",
       "\n",
       "    .dataframe tbody tr th {\n",
       "        vertical-align: top;\n",
       "    }\n",
       "\n",
       "    .dataframe thead th {\n",
       "        text-align: right;\n",
       "    }\n",
       "</style>\n",
       "<table border=\"1\" class=\"dataframe\">\n",
       "  <thead>\n",
       "    <tr style=\"text-align: right;\">\n",
       "      <th></th>\n",
       "      <th>incorrect</th>\n",
       "      <th>correct</th>\n",
       "    </tr>\n",
       "  </thead>\n",
       "  <tbody>\n",
       "    <tr>\n",
       "      <th>264288</th>\n",
       "      <td>they were so beautiful song</td>\n",
       "      <td>they were such beautiful songs</td>\n",
       "    </tr>\n",
       "    <tr>\n",
       "      <th>386352</th>\n",
       "      <td>therefor i can not easy to sleep</td>\n",
       "      <td>so i can not sleep very well</td>\n",
       "    </tr>\n",
       "    <tr>\n",
       "      <th>126621</th>\n",
       "      <td>i never gone to china but i totally agree with...</td>\n",
       "      <td>i have never gone to china but i totally agree...</td>\n",
       "    </tr>\n",
       "    <tr>\n",
       "      <th>121533</th>\n",
       "      <td>deep breath help me</td>\n",
       "      <td>deep breath helps me</td>\n",
       "    </tr>\n",
       "    <tr>\n",
       "      <th>359697</th>\n",
       "      <td>i admitted japanese people got high scores in ...</td>\n",
       "      <td>i admit that japanese people received high sco...</td>\n",
       "    </tr>\n",
       "    <tr>\n",
       "      <th>...</th>\n",
       "      <td>...</td>\n",
       "      <td>...</td>\n",
       "    </tr>\n",
       "    <tr>\n",
       "      <th>147342</th>\n",
       "      <td>you must finish this work</td>\n",
       "      <td>this work must be finished by you</td>\n",
       "    </tr>\n",
       "    <tr>\n",
       "      <th>197930</th>\n",
       "      <td>i went to obi festival to take pictures</td>\n",
       "      <td>i went to the obi festival to take pictures</td>\n",
       "    </tr>\n",
       "    <tr>\n",
       "      <th>77006</th>\n",
       "      <td>many customer came to my day</td>\n",
       "      <td>many customers came today</td>\n",
       "    </tr>\n",
       "    <tr>\n",
       "      <th>165890</th>\n",
       "      <td>my friends said to me decoration versions are ...</td>\n",
       "      <td>my friends said that the decorated versions ar...</td>\n",
       "    </tr>\n",
       "    <tr>\n",
       "      <th>264329</th>\n",
       "      <td>that sounds interesting is not that?</td>\n",
       "      <td>that sounds interesting does not it?</td>\n",
       "    </tr>\n",
       "  </tbody>\n",
       "</table>\n",
       "<p>62381 rows × 2 columns</p>\n",
       "</div>"
      ],
      "text/plain": [
       "                                                incorrect  \\\n",
       "264288                        they were so beautiful song   \n",
       "386352                   therefor i can not easy to sleep   \n",
       "126621  i never gone to china but i totally agree with...   \n",
       "121533                                deep breath help me   \n",
       "359697  i admitted japanese people got high scores in ...   \n",
       "...                                                   ...   \n",
       "147342                          you must finish this work   \n",
       "197930            i went to obi festival to take pictures   \n",
       "77006                        many customer came to my day   \n",
       "165890  my friends said to me decoration versions are ...   \n",
       "264329               that sounds interesting is not that?   \n",
       "\n",
       "                                                  correct  \n",
       "264288                     they were such beautiful songs  \n",
       "386352                       so i can not sleep very well  \n",
       "126621  i have never gone to china but i totally agree...  \n",
       "121533                               deep breath helps me  \n",
       "359697  i admit that japanese people received high sco...  \n",
       "...                                                   ...  \n",
       "147342                  this work must be finished by you  \n",
       "197930        i went to the obi festival to take pictures  \n",
       "77006                           many customers came today  \n",
       "165890  my friends said that the decorated versions ar...  \n",
       "264329               that sounds interesting does not it?  \n",
       "\n",
       "[62381 rows x 2 columns]"
      ]
     },
     "execution_count": 57,
     "metadata": {},
     "output_type": "execute_result"
    }
   ],
   "source": [
    "validation"
   ]
  },
  {
   "cell_type": "code",
   "execution_count": 58,
   "id": "9da99008",
   "metadata": {
    "execution": {
     "iopub.execute_input": "2023-03-13T08:07:00.167443Z",
     "iopub.status.busy": "2023-03-13T08:07:00.165736Z",
     "iopub.status.idle": "2023-03-13T08:07:00.299790Z",
     "shell.execute_reply": "2023-03-13T08:07:00.298227Z"
    },
    "id": "1enW9UeKq0of",
    "papermill": {
     "duration": 0.14523,
     "end_time": "2023-03-13T08:07:00.302695",
     "exception": false,
     "start_time": "2023-03-13T08:07:00.157465",
     "status": "completed"
    },
    "tags": []
   },
   "outputs": [
    {
     "data": {
      "text/html": [
       "<div>\n",
       "<style scoped>\n",
       "    .dataframe tbody tr th:only-of-type {\n",
       "        vertical-align: middle;\n",
       "    }\n",
       "\n",
       "    .dataframe tbody tr th {\n",
       "        vertical-align: top;\n",
       "    }\n",
       "\n",
       "    .dataframe thead th {\n",
       "        text-align: right;\n",
       "    }\n",
       "</style>\n",
       "<table border=\"1\" class=\"dataframe\">\n",
       "  <thead>\n",
       "    <tr style=\"text-align: right;\">\n",
       "      <th></th>\n",
       "      <th>incorrect</th>\n",
       "      <th>correct_inp</th>\n",
       "      <th>correct_out</th>\n",
       "    </tr>\n",
       "  </thead>\n",
       "  <tbody>\n",
       "    <tr>\n",
       "      <th>264288</th>\n",
       "      <td>they were so beautiful song</td>\n",
       "      <td>&lt;start&gt; they were such beautiful songs</td>\n",
       "      <td>they were such beautiful songs &lt;end&gt;</td>\n",
       "    </tr>\n",
       "    <tr>\n",
       "      <th>386352</th>\n",
       "      <td>therefor i can not easy to sleep</td>\n",
       "      <td>&lt;start&gt; so i can not sleep very well</td>\n",
       "      <td>so i can not sleep very well &lt;end&gt;</td>\n",
       "    </tr>\n",
       "    <tr>\n",
       "      <th>126621</th>\n",
       "      <td>i never gone to china but i totally agree with...</td>\n",
       "      <td>&lt;start&gt; i have never gone to china but i total...</td>\n",
       "      <td>i have never gone to china but i totally agree...</td>\n",
       "    </tr>\n",
       "    <tr>\n",
       "      <th>121533</th>\n",
       "      <td>deep breath help me</td>\n",
       "      <td>&lt;start&gt; deep breath helps me</td>\n",
       "      <td>deep breath helps me &lt;end&gt;</td>\n",
       "    </tr>\n",
       "    <tr>\n",
       "      <th>359697</th>\n",
       "      <td>i admitted japanese people got high scores in ...</td>\n",
       "      <td>&lt;start&gt; i admit that japanese people received ...</td>\n",
       "      <td>i admit that japanese people received high sco...</td>\n",
       "    </tr>\n",
       "  </tbody>\n",
       "</table>\n",
       "</div>"
      ],
      "text/plain": [
       "                                                incorrect  \\\n",
       "264288                        they were so beautiful song   \n",
       "386352                   therefor i can not easy to sleep   \n",
       "126621  i never gone to china but i totally agree with...   \n",
       "121533                                deep breath help me   \n",
       "359697  i admitted japanese people got high scores in ...   \n",
       "\n",
       "                                              correct_inp  \\\n",
       "264288             <start> they were such beautiful songs   \n",
       "386352               <start> so i can not sleep very well   \n",
       "126621  <start> i have never gone to china but i total...   \n",
       "121533                       <start> deep breath helps me   \n",
       "359697  <start> i admit that japanese people received ...   \n",
       "\n",
       "                                              correct_out  \n",
       "264288               they were such beautiful songs <end>  \n",
       "386352                 so i can not sleep very well <end>  \n",
       "126621  i have never gone to china but i totally agree...  \n",
       "121533                         deep breath helps me <end>  \n",
       "359697  i admit that japanese people received high sco...  "
      ]
     },
     "execution_count": 58,
     "metadata": {},
     "output_type": "execute_result"
    }
   ],
   "source": [
    "validation['correct_inp'] = '<start> ' + validation['correct'].astype(str)\n",
    "validation['correct_out'] = validation['correct'].astype(str) + ' <end>'\n",
    "\n",
    "validation = validation.drop(['correct'], axis=1)\n",
    "# only for the first sentance add a toke <end> so that we will have <end> in tokenizer\n",
    "validation.head()"
   ]
  },
  {
   "cell_type": "code",
   "execution_count": 59,
   "id": "22cc2325",
   "metadata": {
    "execution": {
     "iopub.execute_input": "2023-03-13T08:07:00.317881Z",
     "iopub.status.busy": "2023-03-13T08:07:00.317395Z",
     "iopub.status.idle": "2023-03-13T08:07:00.325244Z",
     "shell.execute_reply": "2023-03-13T08:07:00.323812Z"
    },
    "id": "4YEDHp4HrEKT",
    "papermill": {
     "duration": 0.018842,
     "end_time": "2023-03-13T08:07:00.327992",
     "exception": false,
     "start_time": "2023-03-13T08:07:00.309150",
     "status": "completed"
    },
    "tags": []
   },
   "outputs": [],
   "source": [
    "# for one sentence we will be adding <end> token so that the tokanizer learns the word <end>\n",
    "# with this we can use only one tokenizer for both encoder output and decoder output\n",
    "train['correct_inp'].iloc[0]= train.iloc[0]['correct_inp']+' <end>'\n",
    "train['correct_out'].iloc[0]= train.iloc[0]['correct_out']+' <end>'"
   ]
  },
  {
   "cell_type": "code",
   "execution_count": 60,
   "id": "4c729535",
   "metadata": {},
   "outputs": [
    {
     "data": {
      "text/plain": [
       "'<start> but there are also many competitions between them <end>'"
      ]
     },
     "execution_count": 60,
     "metadata": {},
     "output_type": "execute_result"
    }
   ],
   "source": [
    "train['correct_inp'].iloc[0]"
   ]
  },
  {
   "cell_type": "code",
   "execution_count": 61,
   "id": "83aabb42",
   "metadata": {
    "execution": {
     "iopub.execute_input": "2023-03-13T08:07:00.343137Z",
     "iopub.status.busy": "2023-03-13T08:07:00.342656Z",
     "iopub.status.idle": "2023-03-13T08:07:00.359779Z",
     "shell.execute_reply": "2023-03-13T08:07:00.358295Z"
    },
    "id": "_i3GjoOaNK-N",
    "outputId": "d6c5b250-2c5e-4bb7-e14f-4b48fc3269bd",
    "papermill": {
     "duration": 0.028354,
     "end_time": "2023-03-13T08:07:00.362807",
     "exception": false,
     "start_time": "2023-03-13T08:07:00.334453",
     "status": "completed"
    },
    "tags": []
   },
   "outputs": [
    {
     "data": {
      "text/html": [
       "<div>\n",
       "<style scoped>\n",
       "    .dataframe tbody tr th:only-of-type {\n",
       "        vertical-align: middle;\n",
       "    }\n",
       "\n",
       "    .dataframe tbody tr th {\n",
       "        vertical-align: top;\n",
       "    }\n",
       "\n",
       "    .dataframe thead th {\n",
       "        text-align: right;\n",
       "    }\n",
       "</style>\n",
       "<table border=\"1\" class=\"dataframe\">\n",
       "  <thead>\n",
       "    <tr style=\"text-align: right;\">\n",
       "      <th></th>\n",
       "      <th>incorrect</th>\n",
       "      <th>correct_inp</th>\n",
       "      <th>correct_out</th>\n",
       "    </tr>\n",
       "  </thead>\n",
       "  <tbody>\n",
       "    <tr>\n",
       "      <th>337916</th>\n",
       "      <td>but there also are many competitions between them</td>\n",
       "      <td>&lt;start&gt; but there are also many competitions b...</td>\n",
       "      <td>but there are also many competitions between t...</td>\n",
       "    </tr>\n",
       "    <tr>\n",
       "      <th>458022</th>\n",
       "      <td>i ate loach last night</td>\n",
       "      <td>&lt;start&gt; i had loach for dinner last night</td>\n",
       "      <td>i had loach for dinner last night &lt;end&gt;</td>\n",
       "    </tr>\n",
       "    <tr>\n",
       "      <th>356023</th>\n",
       "      <td>and we chatted a little bit and started watchi...</td>\n",
       "      <td>&lt;start&gt; after chatting a little bit we started...</td>\n",
       "      <td>after chatting a little bit we started watchin...</td>\n",
       "    </tr>\n",
       "    <tr>\n",
       "      <th>209263</th>\n",
       "      <td>three stright day off</td>\n",
       "      <td>&lt;start&gt; three straight days off</td>\n",
       "      <td>three straight days off &lt;end&gt;</td>\n",
       "    </tr>\n",
       "    <tr>\n",
       "      <th>413285</th>\n",
       "      <td>i will study urban planning at there</td>\n",
       "      <td>&lt;start&gt; i will study urban planning there</td>\n",
       "      <td>i will study urban planning there &lt;end&gt;</td>\n",
       "    </tr>\n",
       "    <tr>\n",
       "      <th>...</th>\n",
       "      <td>...</td>\n",
       "      <td>...</td>\n",
       "      <td>...</td>\n",
       "    </tr>\n",
       "    <tr>\n",
       "      <th>107088</th>\n",
       "      <td>i would everything put inside me</td>\n",
       "      <td>&lt;start&gt; i have everything they put inside me</td>\n",
       "      <td>i have everything they put inside me &lt;end&gt;</td>\n",
       "    </tr>\n",
       "    <tr>\n",
       "      <th>369517</th>\n",
       "      <td>recently i am busy but my school life is limited</td>\n",
       "      <td>&lt;start&gt; recently i have been busy and my schoo...</td>\n",
       "      <td>recently i have been busy and my school life i...</td>\n",
       "    </tr>\n",
       "    <tr>\n",
       "      <th>14271</th>\n",
       "      <td>do you have some plan to enjoy summer?</td>\n",
       "      <td>&lt;start&gt; do you have some plans to enjoy summer?</td>\n",
       "      <td>do you have some plans to enjoy summer? &lt;end&gt;</td>\n",
       "    </tr>\n",
       "    <tr>\n",
       "      <th>305712</th>\n",
       "      <td>what a tight security!</td>\n",
       "      <td>&lt;start&gt; what tight security!</td>\n",
       "      <td>what tight security! &lt;end&gt;</td>\n",
       "    </tr>\n",
       "    <tr>\n",
       "      <th>277876</th>\n",
       "      <td>in these fishes there are dangerous fishes so ...</td>\n",
       "      <td>&lt;start&gt; in this river there are dangerous fish...</td>\n",
       "      <td>in this river there are dangerous fishes so yo...</td>\n",
       "    </tr>\n",
       "  </tbody>\n",
       "</table>\n",
       "<p>249523 rows × 3 columns</p>\n",
       "</div>"
      ],
      "text/plain": [
       "                                                incorrect  \\\n",
       "337916  but there also are many competitions between them   \n",
       "458022                             i ate loach last night   \n",
       "356023  and we chatted a little bit and started watchi...   \n",
       "209263                              three stright day off   \n",
       "413285               i will study urban planning at there   \n",
       "...                                                   ...   \n",
       "107088                   i would everything put inside me   \n",
       "369517   recently i am busy but my school life is limited   \n",
       "14271              do you have some plan to enjoy summer?   \n",
       "305712                             what a tight security!   \n",
       "277876  in these fishes there are dangerous fishes so ...   \n",
       "\n",
       "                                              correct_inp  \\\n",
       "337916  <start> but there are also many competitions b...   \n",
       "458022          <start> i had loach for dinner last night   \n",
       "356023  <start> after chatting a little bit we started...   \n",
       "209263                    <start> three straight days off   \n",
       "413285          <start> i will study urban planning there   \n",
       "...                                                   ...   \n",
       "107088       <start> i have everything they put inside me   \n",
       "369517  <start> recently i have been busy and my schoo...   \n",
       "14271     <start> do you have some plans to enjoy summer?   \n",
       "305712                       <start> what tight security!   \n",
       "277876  <start> in this river there are dangerous fish...   \n",
       "\n",
       "                                              correct_out  \n",
       "337916  but there are also many competitions between t...  \n",
       "458022            i had loach for dinner last night <end>  \n",
       "356023  after chatting a little bit we started watchin...  \n",
       "209263                      three straight days off <end>  \n",
       "413285            i will study urban planning there <end>  \n",
       "...                                                   ...  \n",
       "107088         i have everything they put inside me <end>  \n",
       "369517  recently i have been busy and my school life i...  \n",
       "14271       do you have some plans to enjoy summer? <end>  \n",
       "305712                         what tight security! <end>  \n",
       "277876  in this river there are dangerous fishes so yo...  \n",
       "\n",
       "[249523 rows x 3 columns]"
      ]
     },
     "execution_count": 61,
     "metadata": {},
     "output_type": "execute_result"
    }
   ],
   "source": [
    "train"
   ]
  },
  {
   "cell_type": "code",
   "execution_count": 62,
   "id": "1e9a8e51",
   "metadata": {
    "execution": {
     "iopub.execute_input": "2023-03-13T08:07:00.379905Z",
     "iopub.status.busy": "2023-03-13T08:07:00.379416Z",
     "iopub.status.idle": "2023-03-13T08:07:10.311583Z",
     "shell.execute_reply": "2023-03-13T08:07:10.310067Z"
    },
    "id": "SRp3v7DZrOi3",
    "papermill": {
     "duration": 9.943985,
     "end_time": "2023-03-13T08:07:10.314908",
     "exception": false,
     "start_time": "2023-03-13T08:07:00.370923",
     "status": "completed"
    },
    "tags": []
   },
   "outputs": [],
   "source": [
    "#Correct Sentence tokenizer\n",
    "#We will be considering . and , and ; as tokens\n",
    "correct_tk = Tokenizer(filters='!\"#$%&()*+-/;=?@[\\\\]^_`{|}~\\t\\n,.:',oov_token='<UNK>')\n",
    "correct_tk.fit_on_texts(train['correct_inp'].values)\n",
    "\n",
    "#Incorrect Sentence Tokenizer\n",
    "incorrect_tk = Tokenizer(filters='!\"#$%&()*+-/;=?@[\\\\]^_`{|}~\\t\\n.,:',oov_token='<UNK>')\n",
    "incorrect_tk.fit_on_texts(train['incorrect'].values)"
   ]
  },
  {
   "cell_type": "code",
   "execution_count": 63,
   "id": "933c000b",
   "metadata": {
    "execution": {
     "iopub.execute_input": "2023-03-13T08:07:10.332190Z",
     "iopub.status.busy": "2023-03-13T08:07:10.330900Z",
     "iopub.status.idle": "2023-03-13T08:07:10.339937Z",
     "shell.execute_reply": "2023-03-13T08:07:10.338276Z"
    },
    "id": "Ez-q0gXhNK-O",
    "outputId": "22203d1c-5b8b-4cf0-cb27-521ce9b9100a",
    "papermill": {
     "duration": 0.021419,
     "end_time": "2023-03-13T08:07:10.343430",
     "exception": false,
     "start_time": "2023-03-13T08:07:10.322011",
     "status": "completed"
    },
    "tags": []
   },
   "outputs": [
    {
     "name": "stdout",
     "output_type": "stream",
     "text": [
      "2\n",
      "20421\n",
      "1\n"
     ]
    }
   ],
   "source": [
    "print(correct_tk.word_index.get('<start>'))\n",
    "print(correct_tk.word_index.get('<end>'))\n",
    "print(correct_tk.word_index.get('<UNK>'))\n"
   ]
  },
  {
   "cell_type": "code",
   "execution_count": 64,
   "id": "3cdcd755",
   "metadata": {
    "execution": {
     "iopub.execute_input": "2023-03-13T08:07:10.359773Z",
     "iopub.status.busy": "2023-03-13T08:07:10.359327Z",
     "iopub.status.idle": "2023-03-13T08:07:10.369749Z",
     "shell.execute_reply": "2023-03-13T08:07:10.368107Z"
    },
    "id": "vgcFdsP-NK-O",
    "outputId": "054b5a51-30b3-482a-9218-2dfae06fe7d6",
    "papermill": {
     "duration": 0.022387,
     "end_time": "2023-03-13T08:07:10.372802",
     "exception": false,
     "start_time": "2023-03-13T08:07:10.350415",
     "status": "completed"
    },
    "tags": []
   },
   "outputs": [
    {
     "name": "stdout",
     "output_type": "stream",
     "text": [
      "40176\n",
      "52192\n"
     ]
    }
   ],
   "source": [
    "vocab_size_correct=max(correct_tk.word_index.values())\n",
    "print(vocab_size_correct)\n",
    "vocab_size_incorrect=max(incorrect_tk.word_index.values())\n",
    "print(vocab_size_incorrect)"
   ]
  },
  {
   "cell_type": "code",
   "execution_count": 65,
   "id": "58cb038f",
   "metadata": {
    "execution": {
     "iopub.execute_input": "2023-03-13T08:07:10.390155Z",
     "iopub.status.busy": "2023-03-13T08:07:10.388938Z",
     "iopub.status.idle": "2023-03-13T08:07:11.391175Z",
     "shell.execute_reply": "2023-03-13T08:07:11.389519Z"
    },
    "papermill": {
     "duration": 1.014879,
     "end_time": "2023-03-13T08:07:11.394655",
     "exception": false,
     "start_time": "2023-03-13T08:07:10.379776",
     "status": "completed"
    },
    "tags": []
   },
   "outputs": [],
   "source": [
    "pickle.dump([vocab_size_correct,vocab_size_incorrect,correct_tk,incorrect_tk],open('tokenizer_files.pkl','wb'))\n",
    "pickle.dump([train,test, validation],open('main_data_2.pkl','wb'))"
   ]
  }
 ],
 "metadata": {
  "kernelspec": {
   "display_name": "Python 3 (ipykernel)",
   "language": "python",
   "name": "python3"
  },
  "language_info": {
   "codemirror_mode": {
    "name": "ipython",
    "version": 3
   },
   "file_extension": ".py",
   "mimetype": "text/x-python",
   "name": "python",
   "nbconvert_exporter": "python",
   "pygments_lexer": "ipython3",
   "version": "3.9.16"
  },
  "papermill": {
   "default_parameters": {},
   "duration": 41.805618,
   "end_time": "2023-03-13T08:07:14.085418",
   "environment_variables": {},
   "exception": null,
   "input_path": "__notebook__.ipynb",
   "output_path": "__notebook__.ipynb",
   "parameters": {},
   "start_time": "2023-03-13T08:06:32.279800",
   "version": "2.4.0"
  }
 },
 "nbformat": 4,
 "nbformat_minor": 5
}
